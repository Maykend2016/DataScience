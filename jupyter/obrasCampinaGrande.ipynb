{
 "cells": [
  {
   "cell_type": "markdown",
   "metadata": {},
   "source": [
    "--------\n",
    "# Especialização em Ciência de Dados\n",
    "## Módulo de Machine Learning I\n",
    "\n",
    "**Aluno: Mayke Kend Gomes Delgado**\n",
    "\n",
    "**Matrícula: 1691690020**\n",
    "\n",
    "**Professora: Talita Lobo**\n",
    "\n",
    "--------"
   ]
  },
  {
   "cell_type": "code",
   "execution_count": 1,
   "metadata": {},
   "outputs": [],
   "source": [
    "# Importação das bibliotecas necessárias\n",
    "\n",
    "import pandas as pd # para criação do data frame\n",
    "from sklearn.model_selection import train_test_split # para separação dos conjuntos de treino e teste\n",
    "from sklearn.linear_model import LogisticRegression # para construção do modelo de Regressão Logística\n",
    "from sklearn import metrics # para computação das métricas de avaliação\n",
    "from sklearn.metrics import confusion_matrix\n",
    "import seaborn as sn # para visualização dos resultados\n",
    "\n",
    "from matplotlib import pyplot as plt\n",
    "from sklearn.cluster import AgglomerativeClustering\n",
    "import scipy.cluster.hierarchy as sch\n",
    "\n",
    "from sklearn.cluster import KMeans\n",
    "from sklearn.preprocessing import StandardScaler\n",
    "from math import sqrt"
   ]
  },
  {
   "cell_type": "code",
   "execution_count": 2,
   "metadata": {},
   "outputs": [],
   "source": [
    "import numpy as np \n",
    "import scipy as sp"
   ]
  },
  {
   "cell_type": "markdown",
   "metadata": {},
   "source": [
    "### Nosso Problema"
   ]
  },
  {
   "cell_type": "markdown",
   "metadata": {},
   "source": [
    "Neste problema, desejamos descobrir se o contrato foi rescindido ou não de acordo com a nossa classificação, visto que a palavra rescindido tem como significado de um adjetivo que se tornou nulo; que deixou de possuir valor; que foi anulado ou cancelado. **Que foi alvo de rescisão; que deixou de possuir efeito; cujo conteúdo foi anulado: o empreiteiro teve seu contrato rescindido.**"
   ]
  },
  {
   "cell_type": "markdown",
   "metadata": {},
   "source": [
    "O primeiro passo: **Importação dos dados.**"
   ]
  },
  {
   "cell_type": "code",
   "execution_count": 3,
   "metadata": {},
   "outputs": [
    {
     "data": {
      "text/html": [
       "<div>\n",
       "<style scoped>\n",
       "    .dataframe tbody tr th:only-of-type {\n",
       "        vertical-align: middle;\n",
       "    }\n",
       "\n",
       "    .dataframe tbody tr th {\n",
       "        vertical-align: top;\n",
       "    }\n",
       "\n",
       "    .dataframe thead th {\n",
       "        text-align: right;\n",
       "    }\n",
       "</style>\n",
       "<table border=\"1\" class=\"dataframe\">\n",
       "  <thead>\n",
       "    <tr style=\"text-align: right;\">\n",
       "      <th></th>\n",
       "      <th>CNPJ</th>\n",
       "      <th>cd_UGestora</th>\n",
       "      <th>nu_Contrato</th>\n",
       "      <th>tp_Licitacao</th>\n",
       "      <th>vl_TotalContrato</th>\n",
       "      <th>n_municipios</th>\n",
       "      <th>n_ugestora</th>\n",
       "      <th>total_ganho</th>\n",
       "      <th>perc_vitoria</th>\n",
       "      <th>idade_empresa_anos</th>\n",
       "      <th>descricao_tipo_logradouro</th>\n",
       "      <th>porte_empresa</th>\n",
       "      <th>diff_abertura_primeiro_empenho</th>\n",
       "      <th>status</th>\n",
       "      <th>media_num_contratos</th>\n",
       "    </tr>\n",
       "  </thead>\n",
       "  <tbody>\n",
       "    <tr>\n",
       "      <th>0</th>\n",
       "      <td>1</td>\n",
       "      <td>201002</td>\n",
       "      <td>000332014</td>\n",
       "      <td>2</td>\n",
       "      <td>1.509677</td>\n",
       "      <td>1.093078</td>\n",
       "      <td>2</td>\n",
       "      <td>32.298765</td>\n",
       "      <td>0.168266</td>\n",
       "      <td>1.700670</td>\n",
       "      <td>AVENIDA</td>\n",
       "      <td>3</td>\n",
       "      <td>9504000</td>\n",
       "      <td>1</td>\n",
       "      <td>0.952224</td>\n",
       "    </tr>\n",
       "    <tr>\n",
       "      <th>1</th>\n",
       "      <td>2</td>\n",
       "      <td>201005</td>\n",
       "      <td>000692016</td>\n",
       "      <td>11</td>\n",
       "      <td>1.509142</td>\n",
       "      <td>3.861545</td>\n",
       "      <td>52</td>\n",
       "      <td>62.380807</td>\n",
       "      <td>0.377875</td>\n",
       "      <td>2.450000</td>\n",
       "      <td>RUA</td>\n",
       "      <td>3</td>\n",
       "      <td>21686400</td>\n",
       "      <td>1</td>\n",
       "      <td>0.758340</td>\n",
       "    </tr>\n",
       "    <tr>\n",
       "      <th>2</th>\n",
       "      <td>3</td>\n",
       "      <td>201013</td>\n",
       "      <td>000012016</td>\n",
       "      <td>11</td>\n",
       "      <td>1.509422</td>\n",
       "      <td>3.525077</td>\n",
       "      <td>53</td>\n",
       "      <td>86.293085</td>\n",
       "      <td>0.680105</td>\n",
       "      <td>2.951923</td>\n",
       "      <td>RUA</td>\n",
       "      <td>3</td>\n",
       "      <td>599529600</td>\n",
       "      <td>1</td>\n",
       "      <td>1.200319</td>\n",
       "    </tr>\n",
       "    <tr>\n",
       "      <th>3</th>\n",
       "      <td>4</td>\n",
       "      <td>201013</td>\n",
       "      <td>000022016</td>\n",
       "      <td>11</td>\n",
       "      <td>1.509454</td>\n",
       "      <td>3.348522</td>\n",
       "      <td>45</td>\n",
       "      <td>97.456266</td>\n",
       "      <td>0.778325</td>\n",
       "      <td>2.489817</td>\n",
       "      <td>RURAL</td>\n",
       "      <td>3</td>\n",
       "      <td>67046400</td>\n",
       "      <td>1</td>\n",
       "      <td>1.186823</td>\n",
       "    </tr>\n",
       "    <tr>\n",
       "      <th>4</th>\n",
       "      <td>5</td>\n",
       "      <td>201013</td>\n",
       "      <td>000072016</td>\n",
       "      <td>11</td>\n",
       "      <td>1.509463</td>\n",
       "      <td>3.650836</td>\n",
       "      <td>45</td>\n",
       "      <td>66.426296</td>\n",
       "      <td>0.716727</td>\n",
       "      <td>1.695765</td>\n",
       "      <td>RUA</td>\n",
       "      <td>3</td>\n",
       "      <td>9676800</td>\n",
       "      <td>1</td>\n",
       "      <td>0.758340</td>\n",
       "    </tr>\n",
       "  </tbody>\n",
       "</table>\n",
       "</div>"
      ],
      "text/plain": [
       "   CNPJ  cd_UGestora nu_Contrato  tp_Licitacao  vl_TotalContrato  \\\n",
       "0     1       201002   000332014             2          1.509677   \n",
       "1     2       201005   000692016            11          1.509142   \n",
       "2     3       201013   000012016            11          1.509422   \n",
       "3     4       201013   000022016            11          1.509454   \n",
       "4     5       201013   000072016            11          1.509463   \n",
       "\n",
       "   n_municipios  n_ugestora  total_ganho  perc_vitoria  idade_empresa_anos  \\\n",
       "0      1.093078           2    32.298765      0.168266            1.700670   \n",
       "1      3.861545          52    62.380807      0.377875            2.450000   \n",
       "2      3.525077          53    86.293085      0.680105            2.951923   \n",
       "3      3.348522          45    97.456266      0.778325            2.489817   \n",
       "4      3.650836          45    66.426296      0.716727            1.695765   \n",
       "\n",
       "  descricao_tipo_logradouro  porte_empresa  diff_abertura_primeiro_empenho  \\\n",
       "0                   AVENIDA              3                         9504000   \n",
       "1                       RUA              3                        21686400   \n",
       "2                       RUA              3                       599529600   \n",
       "3                     RURAL              3                        67046400   \n",
       "4                       RUA              3                         9676800   \n",
       "\n",
       "   status  media_num_contratos  \n",
       "0       1             0.952224  \n",
       "1       1             0.758340  \n",
       "2       1             1.200319  \n",
       "3       1             1.186823  \n",
       "4       1             0.758340  "
      ]
     },
     "execution_count": 3,
     "metadata": {},
     "output_type": "execute_result"
    }
   ],
   "source": [
    "# Importando os dados sobre o cancer de mama\n",
    "contratos = pd.read_csv(\"../dados/contratos-paraiba.csv\")\n",
    "\n",
    "# Exibindo as primeiras linhas do dado\n",
    "contratos.head()"
   ]
  },
  {
   "cell_type": "markdown",
   "metadata": {},
   "source": [
    " ### Obras (2014 > 2017)\n",
    " \n",
    "- CNPJ\n",
    "- Código da unidade gestora\n",
    "- Número do contrato\n",
    "- Tipo da licitação que gerou o contr.\n",
    "- Valor total do contrato\n",
    "- Num municípios atendidos p/ empresa\n",
    "- Num UGs atendidas p/ empresa\n",
    "- Total ganho pela empresa\n",
    "- Percentual de vitórias\n",
    "- Idade da empresa em anos\n",
    "- Tipo logradouro\n",
    "- Porte da empresa\n",
    "- Dias = 1o empenho - abertura\n",
    "- Status do contrato (1 rescindido)\n",
    "- Média do número de contratos\n"
   ]
  },
  {
   "cell_type": "markdown",
   "metadata": {},
   "source": [
    "### Análise exploratória\n",
    "\n",
    "#### Formato e tipo dos dados:"
   ]
  },
  {
   "cell_type": "code",
   "execution_count": 4,
   "metadata": {},
   "outputs": [
    {
     "name": "stdout",
     "output_type": "stream",
     "text": [
      "<class 'pandas.core.frame.DataFrame'>\n",
      "RangeIndex: 417 entries, 0 to 416\n",
      "Data columns (total 15 columns):\n",
      "CNPJ                              417 non-null int64\n",
      "cd_UGestora                       417 non-null int64\n",
      "nu_Contrato                       417 non-null object\n",
      "tp_Licitacao                      417 non-null int64\n",
      "vl_TotalContrato                  417 non-null float64\n",
      "n_municipios                      417 non-null float64\n",
      "n_ugestora                        417 non-null int64\n",
      "total_ganho                       417 non-null float64\n",
      "perc_vitoria                      417 non-null float64\n",
      "idade_empresa_anos                417 non-null float64\n",
      "descricao_tipo_logradouro         417 non-null object\n",
      "porte_empresa                     417 non-null int64\n",
      "diff_abertura_primeiro_empenho    417 non-null int64\n",
      "status                            417 non-null int64\n",
      "media_num_contratos               417 non-null float64\n",
      "dtypes: float64(6), int64(7), object(2)\n",
      "memory usage: 48.9+ KB\n"
     ]
    }
   ],
   "source": [
    "# Informações sobre o dado utilizado\n",
    "contratos.info()"
   ]
  },
  {
   "cell_type": "code",
   "execution_count": 5,
   "metadata": {},
   "outputs": [
    {
     "data": {
      "text/plain": [
       "CNPJ                                int64\n",
       "cd_UGestora                         int64\n",
       "nu_Contrato                        object\n",
       "tp_Licitacao                        int64\n",
       "vl_TotalContrato                  float64\n",
       "n_municipios                      float64\n",
       "n_ugestora                          int64\n",
       "total_ganho                       float64\n",
       "perc_vitoria                      float64\n",
       "idade_empresa_anos                float64\n",
       "descricao_tipo_logradouro          object\n",
       "porte_empresa                       int64\n",
       "diff_abertura_primeiro_empenho      int64\n",
       "status                              int64\n",
       "media_num_contratos               float64\n",
       "dtype: object"
      ]
     },
     "execution_count": 5,
     "metadata": {},
     "output_type": "execute_result"
    }
   ],
   "source": [
    "# entendendo os tipos de cada dado\n",
    "contratos.dtypes"
   ]
  },
  {
   "cell_type": "code",
   "execution_count": 6,
   "metadata": {},
   "outputs": [
    {
     "data": {
      "text/plain": [
       "(417, 15)"
      ]
     },
     "execution_count": 6,
     "metadata": {},
     "output_type": "execute_result"
    }
   ],
   "source": [
    "contratos.shape # quantidade de linhas e colunas"
   ]
  },
  {
   "cell_type": "code",
   "execution_count": 7,
   "metadata": {},
   "outputs": [
    {
     "data": {
      "text/plain": [
       "CNPJ                                      1\n",
       "cd_UGestora                           60120\n",
       "nu_Contrato                       000012014\n",
       "tp_Licitacao                              1\n",
       "vl_TotalContrato                     1.5091\n",
       "n_municipios                              0\n",
       "n_ugestora                                0\n",
       "total_ganho                               0\n",
       "perc_vitoria                              0\n",
       "idade_empresa_anos                  1.23919\n",
       "descricao_tipo_logradouro           AVENIDA\n",
       "porte_empresa                             1\n",
       "diff_abertura_primeiro_empenho      1209600\n",
       "status                                    0\n",
       "media_num_contratos                       0\n",
       "dtype: object"
      ]
     },
     "execution_count": 7,
     "metadata": {},
     "output_type": "execute_result"
    }
   ],
   "source": [
    "contratos.min() # valores minimos entre os dados"
   ]
  },
  {
   "cell_type": "code",
   "execution_count": 8,
   "metadata": {},
   "outputs": [
    {
     "data": {
      "text/plain": [
       "CNPJ                                     417\n",
       "cd_UGestora                           610095\n",
       "nu_Contrato                        l00022011\n",
       "tp_Licitacao                              12\n",
       "vl_TotalContrato                     1.50968\n",
       "n_municipios                         6.78813\n",
       "n_ugestora                              1121\n",
       "total_ganho                          154.564\n",
       "perc_vitoria                           1.048\n",
       "idade_empresa_anos                   3.19556\n",
       "descricao_tipo_logradouro              RURAL\n",
       "porte_empresa                           9999\n",
       "diff_abertura_primeiro_empenho    1127260800\n",
       "status                                     1\n",
       "media_num_contratos                  2.45965\n",
       "dtype: object"
      ]
     },
     "execution_count": 8,
     "metadata": {},
     "output_type": "execute_result"
    }
   ],
   "source": [
    "contratos.max() # valores minimos entre os dados"
   ]
  },
  {
   "cell_type": "markdown",
   "metadata": {},
   "source": [
    "Para as variáveis numéricas é possível (e interessante) gerar um sumário dos dados:"
   ]
  },
  {
   "cell_type": "code",
   "execution_count": 9,
   "metadata": {},
   "outputs": [
    {
     "data": {
      "text/html": [
       "<div>\n",
       "<style scoped>\n",
       "    .dataframe tbody tr th:only-of-type {\n",
       "        vertical-align: middle;\n",
       "    }\n",
       "\n",
       "    .dataframe tbody tr th {\n",
       "        vertical-align: top;\n",
       "    }\n",
       "\n",
       "    .dataframe thead th {\n",
       "        text-align: right;\n",
       "    }\n",
       "</style>\n",
       "<table border=\"1\" class=\"dataframe\">\n",
       "  <thead>\n",
       "    <tr style=\"text-align: right;\">\n",
       "      <th></th>\n",
       "      <th>CNPJ</th>\n",
       "      <th>cd_UGestora</th>\n",
       "      <th>tp_Licitacao</th>\n",
       "      <th>vl_TotalContrato</th>\n",
       "      <th>n_municipios</th>\n",
       "      <th>n_ugestora</th>\n",
       "      <th>total_ganho</th>\n",
       "      <th>perc_vitoria</th>\n",
       "      <th>idade_empresa_anos</th>\n",
       "      <th>porte_empresa</th>\n",
       "      <th>diff_abertura_primeiro_empenho</th>\n",
       "      <th>status</th>\n",
       "      <th>media_num_contratos</th>\n",
       "    </tr>\n",
       "  </thead>\n",
       "  <tbody>\n",
       "    <tr>\n",
       "      <th>count</th>\n",
       "      <td>417.000000</td>\n",
       "      <td>417.000000</td>\n",
       "      <td>417.000000</td>\n",
       "      <td>417.000000</td>\n",
       "      <td>417.000000</td>\n",
       "      <td>417.000000</td>\n",
       "      <td>417.000000</td>\n",
       "      <td>417.000000</td>\n",
       "      <td>417.000000</td>\n",
       "      <td>417.000000</td>\n",
       "      <td>4.170000e+02</td>\n",
       "      <td>417.000000</td>\n",
       "      <td>417.000000</td>\n",
       "    </tr>\n",
       "    <tr>\n",
       "      <th>mean</th>\n",
       "      <td>209.000000</td>\n",
       "      <td>291609.781775</td>\n",
       "      <td>8.350120</td>\n",
       "      <td>1.509348</td>\n",
       "      <td>2.998741</td>\n",
       "      <td>74.884892</td>\n",
       "      <td>68.504893</td>\n",
       "      <td>0.489694</td>\n",
       "      <td>2.226544</td>\n",
       "      <td>146.309353</td>\n",
       "      <td>1.539602e+08</td>\n",
       "      <td>0.333333</td>\n",
       "      <td>1.011726</td>\n",
       "    </tr>\n",
       "    <tr>\n",
       "      <th>std</th>\n",
       "      <td>120.521782</td>\n",
       "      <td>167518.477715</td>\n",
       "      <td>4.011666</td>\n",
       "      <td>0.000139</td>\n",
       "      <td>1.539689</td>\n",
       "      <td>134.897579</td>\n",
       "      <td>29.278380</td>\n",
       "      <td>0.259560</td>\n",
       "      <td>0.419724</td>\n",
       "      <td>1191.876616</td>\n",
       "      <td>2.270547e+08</td>\n",
       "      <td>0.471971</td>\n",
       "      <td>0.566997</td>\n",
       "    </tr>\n",
       "    <tr>\n",
       "      <th>min</th>\n",
       "      <td>1.000000</td>\n",
       "      <td>60120.000000</td>\n",
       "      <td>1.000000</td>\n",
       "      <td>1.509097</td>\n",
       "      <td>0.000000</td>\n",
       "      <td>0.000000</td>\n",
       "      <td>0.000000</td>\n",
       "      <td>0.000000</td>\n",
       "      <td>1.239186</td>\n",
       "      <td>1.000000</td>\n",
       "      <td>1.209600e+06</td>\n",
       "      <td>0.000000</td>\n",
       "      <td>0.000000</td>\n",
       "    </tr>\n",
       "    <tr>\n",
       "      <th>25%</th>\n",
       "      <td>105.000000</td>\n",
       "      <td>201061.000000</td>\n",
       "      <td>2.000000</td>\n",
       "      <td>1.509231</td>\n",
       "      <td>1.928591</td>\n",
       "      <td>7.000000</td>\n",
       "      <td>51.849953</td>\n",
       "      <td>0.327774</td>\n",
       "      <td>1.854188</td>\n",
       "      <td>1.000000</td>\n",
       "      <td>1.486080e+07</td>\n",
       "      <td>0.000000</td>\n",
       "      <td>0.632820</td>\n",
       "    </tr>\n",
       "    <tr>\n",
       "      <th>50%</th>\n",
       "      <td>209.000000</td>\n",
       "      <td>201139.000000</td>\n",
       "      <td>11.000000</td>\n",
       "      <td>1.509356</td>\n",
       "      <td>3.002269</td>\n",
       "      <td>24.000000</td>\n",
       "      <td>69.221444</td>\n",
       "      <td>0.513274</td>\n",
       "      <td>2.208614</td>\n",
       "      <td>3.000000</td>\n",
       "      <td>4.285440e+07</td>\n",
       "      <td>0.000000</td>\n",
       "      <td>1.011295</td>\n",
       "    </tr>\n",
       "    <tr>\n",
       "      <th>75%</th>\n",
       "      <td>313.000000</td>\n",
       "      <td>201215.000000</td>\n",
       "      <td>11.000000</td>\n",
       "      <td>1.509443</td>\n",
       "      <td>3.985519</td>\n",
       "      <td>68.000000</td>\n",
       "      <td>86.293085</td>\n",
       "      <td>0.664131</td>\n",
       "      <td>2.562410</td>\n",
       "      <td>3.000000</td>\n",
       "      <td>2.020896e+08</td>\n",
       "      <td>1.000000</td>\n",
       "      <td>1.350067</td>\n",
       "    </tr>\n",
       "    <tr>\n",
       "      <th>max</th>\n",
       "      <td>417.000000</td>\n",
       "      <td>610095.000000</td>\n",
       "      <td>12.000000</td>\n",
       "      <td>1.509677</td>\n",
       "      <td>6.788129</td>\n",
       "      <td>1121.000000</td>\n",
       "      <td>154.564201</td>\n",
       "      <td>1.047998</td>\n",
       "      <td>3.195563</td>\n",
       "      <td>9999.000000</td>\n",
       "      <td>1.127261e+09</td>\n",
       "      <td>1.000000</td>\n",
       "      <td>2.459646</td>\n",
       "    </tr>\n",
       "  </tbody>\n",
       "</table>\n",
       "</div>"
      ],
      "text/plain": [
       "             CNPJ    cd_UGestora  tp_Licitacao  vl_TotalContrato  \\\n",
       "count  417.000000     417.000000    417.000000        417.000000   \n",
       "mean   209.000000  291609.781775      8.350120          1.509348   \n",
       "std    120.521782  167518.477715      4.011666          0.000139   \n",
       "min      1.000000   60120.000000      1.000000          1.509097   \n",
       "25%    105.000000  201061.000000      2.000000          1.509231   \n",
       "50%    209.000000  201139.000000     11.000000          1.509356   \n",
       "75%    313.000000  201215.000000     11.000000          1.509443   \n",
       "max    417.000000  610095.000000     12.000000          1.509677   \n",
       "\n",
       "       n_municipios   n_ugestora  total_ganho  perc_vitoria  \\\n",
       "count    417.000000   417.000000   417.000000    417.000000   \n",
       "mean       2.998741    74.884892    68.504893      0.489694   \n",
       "std        1.539689   134.897579    29.278380      0.259560   \n",
       "min        0.000000     0.000000     0.000000      0.000000   \n",
       "25%        1.928591     7.000000    51.849953      0.327774   \n",
       "50%        3.002269    24.000000    69.221444      0.513274   \n",
       "75%        3.985519    68.000000    86.293085      0.664131   \n",
       "max        6.788129  1121.000000   154.564201      1.047998   \n",
       "\n",
       "       idade_empresa_anos  porte_empresa  diff_abertura_primeiro_empenho  \\\n",
       "count          417.000000     417.000000                    4.170000e+02   \n",
       "mean             2.226544     146.309353                    1.539602e+08   \n",
       "std              0.419724    1191.876616                    2.270547e+08   \n",
       "min              1.239186       1.000000                    1.209600e+06   \n",
       "25%              1.854188       1.000000                    1.486080e+07   \n",
       "50%              2.208614       3.000000                    4.285440e+07   \n",
       "75%              2.562410       3.000000                    2.020896e+08   \n",
       "max              3.195563    9999.000000                    1.127261e+09   \n",
       "\n",
       "           status  media_num_contratos  \n",
       "count  417.000000           417.000000  \n",
       "mean     0.333333             1.011726  \n",
       "std      0.471971             0.566997  \n",
       "min      0.000000             0.000000  \n",
       "25%      0.000000             0.632820  \n",
       "50%      0.000000             1.011295  \n",
       "75%      1.000000             1.350067  \n",
       "max      1.000000             2.459646  "
      ]
     },
     "execution_count": 9,
     "metadata": {},
     "output_type": "execute_result"
    }
   ],
   "source": [
    "contratos.describe() \n",
    "# breve descrição entre contagem de registros\n",
    "# média\n",
    "# desvio padrão\n",
    "# minimo\n",
    "# quatis em 25%, 50% e 75% da base\n",
    "# por fim, máximo."
   ]
  },
  {
   "cell_type": "markdown",
   "metadata": {},
   "source": [
    "**Explorando cada variável**"
   ]
  },
  {
   "cell_type": "code",
   "execution_count": 10,
   "metadata": {},
   "outputs": [
    {
     "data": {
      "text/plain": [
       "1       196\n",
       "3       127\n",
       "5        88\n",
       "9999      6\n",
       "Name: porte_empresa, dtype: int64"
      ]
     },
     "execution_count": 10,
     "metadata": {},
     "output_type": "execute_result"
    }
   ],
   "source": [
    "# Contagem do porte da empresa por classe \n",
    "contratos[\"porte_empresa\"].value_counts()"
   ]
  },
  {
   "cell_type": "code",
   "execution_count": 11,
   "metadata": {},
   "outputs": [
    {
     "data": {
      "text/plain": [
       "<matplotlib.axes._subplots.AxesSubplot at 0x168217c9780>"
      ]
     },
     "execution_count": 11,
     "metadata": {},
     "output_type": "execute_result"
    },
    {
     "data": {
      "image/png": "[encoded data removed]",
      "text/plain": [
       "<Figure size 432x288 with 1 Axes>"
      ]
     },
     "metadata": {
      "needs_background": "light"
     },
     "output_type": "display_data"
    }
   ],
   "source": [
    "# Gráfico de barras sobre o número do porte da empresa em cada classe\n",
    "contratos[\"porte_empresa\"].value_counts().plot(kind=\"bar\")"
   ]
  },
  {
   "cell_type": "markdown",
   "metadata": {},
   "source": [
    "**Nosso dado demonstra que haviam 196 para a primeira empresa, 127 para segunda empresa, 88 para terceira e por fim a quarta e ultima com cerca de 6 em termos de porte**."
   ]
  },
  {
   "cell_type": "code",
   "execution_count": 12,
   "metadata": {},
   "outputs": [
    {
     "data": {
      "text/plain": [
       "0    278\n",
       "1    139\n",
       "Name: status, dtype: int64"
      ]
     },
     "execution_count": 12,
     "metadata": {},
     "output_type": "execute_result"
    }
   ],
   "source": [
    "# Contagem dos status pela coluna que foram rescindido e não rescindido\n",
    "contratos[\"status\"].value_counts()"
   ]
  },
  {
   "cell_type": "markdown",
   "metadata": {},
   "source": [
    "**Em se tratando do número 0 (ZERO) com sendo não rescindido, está na frente com 278 contratos. Já os rescindidos são a minoria com 139 contratos**."
   ]
  },
  {
   "cell_type": "code",
   "execution_count": 13,
   "metadata": {},
   "outputs": [
    {
     "data": {
      "text/plain": [
       "<matplotlib.axes._subplots.AxesSubplot at 0x16821adaa90>"
      ]
     },
     "execution_count": 13,
     "metadata": {},
     "output_type": "execute_result"
    },
    {
     "data": {
      "image/png": "[encoded data removed]",
      "text/plain": [
       "<Figure size 432x288 with 1 Axes>"
      ]
     },
     "metadata": {
      "needs_background": "light"
     },
     "output_type": "display_data"
    }
   ],
   "source": [
    "# Gráfico de barras sobre a do percentual de contratos rescindido e não rescindido\n",
    "contratos[\"status\"].value_counts().plot(kind=\"bar\")"
   ]
  },
  {
   "cell_type": "markdown",
   "metadata": {},
   "source": [
    "**Vemos ver que a quantidade de não rescindido é quase o dobro da quantidade de contratos rescindidos.**"
   ]
  },
  {
   "cell_type": "code",
   "execution_count": 14,
   "metadata": {},
   "outputs": [
    {
     "data": {
      "text/plain": [
       "Index(['CNPJ', 'cd_UGestora', 'nu_Contrato', 'tp_Licitacao',\n",
       "       'vl_TotalContrato', 'n_municipios', 'n_ugestora', 'total_ganho',\n",
       "       'perc_vitoria', 'idade_empresa_anos', 'descricao_tipo_logradouro',\n",
       "       'porte_empresa', 'diff_abertura_primeiro_empenho', 'status',\n",
       "       'media_num_contratos'],\n",
       "      dtype='object')"
      ]
     },
     "execution_count": 14,
     "metadata": {},
     "output_type": "execute_result"
    }
   ],
   "source": [
    "contratos.columns # listando todas as colunas da base de dados"
   ]
  },
  {
   "cell_type": "code",
   "execution_count": 15,
   "metadata": {},
   "outputs": [
    {
     "data": {
      "text/plain": [
       "<matplotlib.axes._subplots.AxesSubplot at 0x16821b36898>"
      ]
     },
     "execution_count": 15,
     "metadata": {},
     "output_type": "execute_result"
    },
    {
     "data": {
      "image/png": "[encoded data removed]",
      "text/plain": [
       "<Figure size 432x288 with 1 Axes>"
      ]
     },
     "metadata": {
      "needs_background": "light"
     },
     "output_type": "display_data"
    }
   ],
   "source": [
    "# Histograma da distribuição de total de ganhos sobre cada empresa\n",
    "contratos[\"total_ganho\"].hist(width=6)"
   ]
  },
  {
   "cell_type": "markdown",
   "metadata": {},
   "source": [
    "Comparando a taxa de status dos contratos pra diferentes variáveis e até mesmo com a própria variável status por curiosidade."
   ]
  },
  {
   "cell_type": "code",
   "execution_count": 16,
   "metadata": {},
   "outputs": [],
   "source": [
    "def status_stacked_bar(variable):\n",
    "    nrescindido = contratos[contratos[\"status\"]==0][variable].value_counts()/len(contratos[\"status\"]==0)\n",
    "    rescindido = contratos[contratos[\"status\"]==1][variable].value_counts()/len(contratos[\"status\"]==1)\n",
    "    \n",
    "    data = pd.DataFrame([nrescindido,rescindido])\n",
    "    data.index=[\"Não rescindido\",\"rescindido\"]\n",
    "    data.plot(kind=\"bar\",stacked=True,title=\"Porcentagem\")\n",
    "    \n",
    "    return data.head()"
   ]
  },
  {
   "cell_type": "code",
   "execution_count": 17,
   "metadata": {},
   "outputs": [
    {
     "data": {
      "text/html": [
       "<div>\n",
       "<style scoped>\n",
       "    .dataframe tbody tr th:only-of-type {\n",
       "        vertical-align: middle;\n",
       "    }\n",
       "\n",
       "    .dataframe tbody tr th {\n",
       "        vertical-align: top;\n",
       "    }\n",
       "\n",
       "    .dataframe thead th {\n",
       "        text-align: right;\n",
       "    }\n",
       "</style>\n",
       "<table border=\"1\" class=\"dataframe\">\n",
       "  <thead>\n",
       "    <tr style=\"text-align: right;\">\n",
       "      <th></th>\n",
       "      <th>0</th>\n",
       "      <th>1</th>\n",
       "    </tr>\n",
       "  </thead>\n",
       "  <tbody>\n",
       "    <tr>\n",
       "      <th>Não rescindido</th>\n",
       "      <td>0.666667</td>\n",
       "      <td>NaN</td>\n",
       "    </tr>\n",
       "    <tr>\n",
       "      <th>rescindido</th>\n",
       "      <td>NaN</td>\n",
       "      <td>0.333333</td>\n",
       "    </tr>\n",
       "  </tbody>\n",
       "</table>\n",
       "</div>"
      ],
      "text/plain": [
       "                       0         1\n",
       "Não rescindido  0.666667       NaN\n",
       "rescindido           NaN  0.333333"
      ]
     },
     "execution_count": 17,
     "metadata": {},
     "output_type": "execute_result"
    },
    {
     "data": {
      "image/png": "[encoded data removed]",
      "text/plain": [
       "<Figure size 432x288 with 1 Axes>"
      ]
     },
     "metadata": {
      "needs_background": "light"
     },
     "output_type": "display_data"
    }
   ],
   "source": [
    "# Utiliza a função criada acima com a variável Status\n",
    "status_stacked_bar(\"status\")"
   ]
  },
  {
   "cell_type": "code",
   "execution_count": 18,
   "metadata": {},
   "outputs": [
    {
     "data": {
      "text/html": [
       "<div>\n",
       "<style scoped>\n",
       "    .dataframe tbody tr th:only-of-type {\n",
       "        vertical-align: middle;\n",
       "    }\n",
       "\n",
       "    .dataframe tbody tr th {\n",
       "        vertical-align: top;\n",
       "    }\n",
       "\n",
       "    .dataframe thead th {\n",
       "        text-align: right;\n",
       "    }\n",
       "</style>\n",
       "<table border=\"1\" class=\"dataframe\">\n",
       "  <thead>\n",
       "    <tr style=\"text-align: right;\">\n",
       "      <th></th>\n",
       "      <th>1</th>\n",
       "      <th>2</th>\n",
       "      <th>3</th>\n",
       "      <th>5</th>\n",
       "      <th>7</th>\n",
       "      <th>8</th>\n",
       "      <th>10</th>\n",
       "      <th>11</th>\n",
       "      <th>12</th>\n",
       "    </tr>\n",
       "  </thead>\n",
       "  <tbody>\n",
       "    <tr>\n",
       "      <th>Não rescindido</th>\n",
       "      <td>0.011990</td>\n",
       "      <td>0.100719</td>\n",
       "      <td>0.004796</td>\n",
       "      <td>0.002398</td>\n",
       "      <td>0.019185</td>\n",
       "      <td>0.021583</td>\n",
       "      <td>0.023981</td>\n",
       "      <td>0.441247</td>\n",
       "      <td>0.040767</td>\n",
       "    </tr>\n",
       "    <tr>\n",
       "      <th>rescindido</th>\n",
       "      <td>0.021583</td>\n",
       "      <td>0.127098</td>\n",
       "      <td>NaN</td>\n",
       "      <td>NaN</td>\n",
       "      <td>0.009592</td>\n",
       "      <td>0.016787</td>\n",
       "      <td>NaN</td>\n",
       "      <td>0.155875</td>\n",
       "      <td>0.002398</td>\n",
       "    </tr>\n",
       "  </tbody>\n",
       "</table>\n",
       "</div>"
      ],
      "text/plain": [
       "                      1         2         3         5         7         8   \\\n",
       "Não rescindido  0.011990  0.100719  0.004796  0.002398  0.019185  0.021583   \n",
       "rescindido      0.021583  0.127098       NaN       NaN  0.009592  0.016787   \n",
       "\n",
       "                      10        11        12  \n",
       "Não rescindido  0.023981  0.441247  0.040767  \n",
       "rescindido           NaN  0.155875  0.002398  "
      ]
     },
     "execution_count": 18,
     "metadata": {},
     "output_type": "execute_result"
    },
    {
     "data": {
      "image/png": "[encoded data removed]",
      "text/plain": [
       "<Figure size 432x288 with 1 Axes>"
      ]
     },
     "metadata": {
      "needs_background": "light"
     },
     "output_type": "display_data"
    }
   ],
   "source": [
    "# Utiliza a função criada acima com a variável tp_Licitacao\n",
    "status_stacked_bar(\"tp_Licitacao\")"
   ]
  },
  {
   "cell_type": "code",
   "execution_count": 19,
   "metadata": {},
   "outputs": [
    {
     "data": {
      "text/html": [
       "<div>\n",
       "<style scoped>\n",
       "    .dataframe tbody tr th:only-of-type {\n",
       "        vertical-align: middle;\n",
       "    }\n",
       "\n",
       "    .dataframe tbody tr th {\n",
       "        vertical-align: top;\n",
       "    }\n",
       "\n",
       "    .dataframe thead th {\n",
       "        text-align: right;\n",
       "    }\n",
       "</style>\n",
       "<table border=\"1\" class=\"dataframe\">\n",
       "  <thead>\n",
       "    <tr style=\"text-align: right;\">\n",
       "      <th></th>\n",
       "      <th>RUA</th>\n",
       "      <th>AVENIDA</th>\n",
       "      <th>OUTRO</th>\n",
       "      <th>RURAL</th>\n",
       "    </tr>\n",
       "  </thead>\n",
       "  <tbody>\n",
       "    <tr>\n",
       "      <th>Não rescindido</th>\n",
       "      <td>0.460432</td>\n",
       "      <td>0.163070</td>\n",
       "      <td>0.040767</td>\n",
       "      <td>0.002398</td>\n",
       "    </tr>\n",
       "    <tr>\n",
       "      <th>rescindido</th>\n",
       "      <td>0.230216</td>\n",
       "      <td>0.067146</td>\n",
       "      <td>0.021583</td>\n",
       "      <td>0.014388</td>\n",
       "    </tr>\n",
       "  </tbody>\n",
       "</table>\n",
       "</div>"
      ],
      "text/plain": [
       "                     RUA   AVENIDA     OUTRO     RURAL\n",
       "Não rescindido  0.460432  0.163070  0.040767  0.002398\n",
       "rescindido      0.230216  0.067146  0.021583  0.014388"
      ]
     },
     "execution_count": 19,
     "metadata": {},
     "output_type": "execute_result"
    },
    {
     "data": {
      "image/png": "[encoded data removed]",
      "text/plain": [
       "<Figure size 432x288 with 1 Axes>"
      ]
     },
     "metadata": {
      "needs_background": "light"
     },
     "output_type": "display_data"
    }
   ],
   "source": [
    "# Utiliza a função criada acima com a variável descricao_tipo_logradouro\n",
    "status_stacked_bar(\"descricao_tipo_logradouro\")"
   ]
  },
  {
   "cell_type": "code",
   "execution_count": 20,
   "metadata": {},
   "outputs": [
    {
     "data": {
      "text/html": [
       "<div>\n",
       "<style scoped>\n",
       "    .dataframe tbody tr th:only-of-type {\n",
       "        vertical-align: middle;\n",
       "    }\n",
       "\n",
       "    .dataframe tbody tr th {\n",
       "        vertical-align: top;\n",
       "    }\n",
       "\n",
       "    .dataframe thead th {\n",
       "        text-align: right;\n",
       "    }\n",
       "</style>\n",
       "<table border=\"1\" class=\"dataframe\">\n",
       "  <thead>\n",
       "    <tr style=\"text-align: right;\">\n",
       "      <th></th>\n",
       "      <th>1</th>\n",
       "      <th>3</th>\n",
       "      <th>5</th>\n",
       "      <th>9999</th>\n",
       "    </tr>\n",
       "  </thead>\n",
       "  <tbody>\n",
       "    <tr>\n",
       "      <th>Não rescindido</th>\n",
       "      <td>0.309353</td>\n",
       "      <td>0.175060</td>\n",
       "      <td>0.170264</td>\n",
       "      <td>0.011990</td>\n",
       "    </tr>\n",
       "    <tr>\n",
       "      <th>rescindido</th>\n",
       "      <td>0.160671</td>\n",
       "      <td>0.129496</td>\n",
       "      <td>0.040767</td>\n",
       "      <td>0.002398</td>\n",
       "    </tr>\n",
       "  </tbody>\n",
       "</table>\n",
       "</div>"
      ],
      "text/plain": [
       "                    1         3         5         9999\n",
       "Não rescindido  0.309353  0.175060  0.170264  0.011990\n",
       "rescindido      0.160671  0.129496  0.040767  0.002398"
      ]
     },
     "execution_count": 20,
     "metadata": {},
     "output_type": "execute_result"
    },
    {
     "data": {
      "image/png": "[encoded data removed]",
      "text/plain": [
       "<Figure size 432x288 with 1 Axes>"
      ]
     },
     "metadata": {
      "needs_background": "light"
     },
     "output_type": "display_data"
    }
   ],
   "source": [
    "# Utiliza a função criada acima com a variável porte_empresa\n",
    "status_stacked_bar(\"porte_empresa\")"
   ]
  },
  {
   "cell_type": "markdown",
   "metadata": {},
   "source": [
    "Em seguida, podemos buscar por valores faltantes nos dados, com o objetivo de decidir qual estratégia \n",
    "utilizaremos para lidar com eles:"
   ]
  },
  {
   "cell_type": "code",
   "execution_count": 21,
   "metadata": {},
   "outputs": [
    {
     "name": "stdout",
     "output_type": "stream",
     "text": [
      "CNPJ: 0 Valores faltantes\n",
      "cd_UGestora: 0 Valores faltantes\n",
      "nu_Contrato: 0 Valores faltantes\n",
      "tp_Licitacao: 0 Valores faltantes\n",
      "vl_TotalContrato: 0 Valores faltantes\n",
      "n_municipios: 0 Valores faltantes\n",
      "n_ugestora: 0 Valores faltantes\n",
      "total_ganho: 0 Valores faltantes\n",
      "perc_vitoria: 0 Valores faltantes\n",
      "idade_empresa_anos: 0 Valores faltantes\n",
      "descricao_tipo_logradouro: 0 Valores faltantes\n",
      "porte_empresa: 0 Valores faltantes\n",
      "diff_abertura_primeiro_empenho: 0 Valores faltantes\n",
      "status: 0 Valores faltantes\n",
      "media_num_contratos: 0 Valores faltantes\n"
     ]
    }
   ],
   "source": [
    "# \n",
    "for i in contratos.columns:\n",
    "    print (i + \": \"+str(sum(contratos[i].isnull()))+\" Valores faltantes\")"
   ]
  },
  {
   "cell_type": "markdown",
   "metadata": {},
   "source": [
    "Pode-se notar que a nossa base de dados não possui nenhum valor faltante"
   ]
  },
  {
   "cell_type": "markdown",
   "metadata": {},
   "source": [
    "**Note que não possuimos valores faltantes em que a nossa base de dados foi construida com not null. Assim, não seria possivel cadastrar no banco de dados faltando um campo da tabela**"
   ]
  },
  {
   "cell_type": "markdown",
   "metadata": {},
   "source": [
    "### 1 - Regressão Logística"
   ]
  },
  {
   "cell_type": "markdown",
   "metadata": {},
   "source": [
    "Teremos que usar a a **Regressão Logística**, do qual é o algoritmo utilizado para quando, a partir de um conjunto de observações, desejamos prever valores assumidos por uma variável categórica binária (0 ou 1).\n",
    "\n",
    "Em nosso caso, teremos que prever se o contrato será reincidido(1) ou não reincidido(0).\n",
    "\n",
    "Na Regressão Logística é importante ter em mente alguns pontos:\n",
    "\n",
    "- A Regressão Logística **Binária** requer que a variável alvo/prevista seja binária\n",
    "- A depender da biblioteca utilizada, o nível 1 do fator deve ser o resultado esperado\n",
    "- É preciso haver independência entre as variáveis independentes/preditores\n",
    "- Este tipo de modelo requer uma quantidade razoável de dados para performar bem "
   ]
  },
  {
   "cell_type": "markdown",
   "metadata": {},
   "source": [
    "**O próximo passo, então, será identificar as variáveis independentes(preditores) e a variável alvo (status).**"
   ]
  },
  {
   "cell_type": "code",
   "execution_count": 22,
   "metadata": {},
   "outputs": [],
   "source": [
    "preditores = contratos[['total_ganho', 'perc_vitoria']]\n",
    "alvo = contratos['status'] "
   ]
  },
  {
   "cell_type": "markdown",
   "metadata": {},
   "source": [
    "Durante o treinamento de modelos é necessário separar o conjunto de dados de maneira a que consigamos treinar o modelo e também avaliá-lo.\n",
    "\n",
    "**Conjunto de Treino**: Amostra dos dados utilizada para o aprendizado/construção do modelo.\n",
    "\n",
    "**Dados de Validação**: Amostra dos dados utilizada para a tunagem dos hiperparâmetros do modelo (ou seja, sua arquitetura). Durante o ajuste dos parâmetros do modelo, para evitar *overfitting*, este conjunto é necessário.\n",
    "\n",
    "**Conjunto de Teste**: Amostra dos dados utilizada para avaliar a capacidade de predição do modelo em novos dados.\n",
    "\n",
    "Em geral, utiliza-se uma divisão de 80%/20% ou 70%/30% para treino e teste, respectivamente. "
   ]
  },
  {
   "cell_type": "code",
   "execution_count": 23,
   "metadata": {},
   "outputs": [],
   "source": [
    "# Divisão dos conjuntos de treino e teste\n",
    "\n",
    "preditores_treino, preditores_teste, alvo_treino, alvo_teste = train_test_split(preditores, alvo, test_size=0.30, random_state=0)"
   ]
  },
  {
   "cell_type": "markdown",
   "metadata": {},
   "source": [
    "Em seguida, já é possível construir o modelo de Regressão Logística:"
   ]
  },
  {
   "cell_type": "code",
   "execution_count": 24,
   "metadata": {},
   "outputs": [
    {
     "name": "stderr",
     "output_type": "stream",
     "text": [
      "C:\\Users\\mayke\\Anaconda3\\lib\\site-packages\\sklearn\\linear_model\\logistic.py:433: FutureWarning: Default solver will be changed to 'lbfgs' in 0.22. Specify a solver to silence this warning.\n",
      "  FutureWarning)\n"
     ]
    }
   ],
   "source": [
    "# Instancia o modelo de regressão logística com parâmetros default\n",
    "modelo_reglog = LogisticRegression()\n",
    "# Treina o modelo com base nos preditores e variável alvo\n",
    "modelo_reglog.fit(preditores_treino, alvo_treino)\n",
    "# Prevê, para os dados do conjunto de teste, resultados para a variável alvo\n",
    "alvo_pred = modelo_reglog.predict(preditores_teste)\n"
   ]
  },
  {
   "cell_type": "code",
   "execution_count": 25,
   "metadata": {},
   "outputs": [
    {
     "name": "stdout",
     "output_type": "stream",
     "text": [
      "[0 0 0 0 0 0 0 0 0 0 0 0 0 1 0 0 0 0 0 0 0 0 0 0 0 0 0 0 0 0 0 0 0 0 0 0 0\n",
      " 0 0 0 0 1 0 0 0 0 0 0 0 0 0 0 0 0 1 0 0 0 1 0 1 0 0 0 0 0 0 0 1 0 0 0 0 0\n",
      " 0 0 0 0 0 0 0 0 0 0 0 0 0 1 0 0 0 0 1 0 0 0 0 0 0 0 0 0 0 0 0 0 0 0 0 0 0\n",
      " 0 0 0 0 0 1 0 0 0 0 0 1 0 0 0]\n"
     ]
    }
   ],
   "source": [
    "print(alvo_pred)"
   ]
  },
  {
   "cell_type": "markdown",
   "metadata": {},
   "source": [
    "Modelo treinado! E agora?\n",
    "\n",
    "Agora é preciso avaliar o quão bem o aprendizado do modelo consegue ser generalizado para outros conjuntos de dados ainda não vistos por ele. Avaliamos o desempenho do modelo comparando os dados previstos por ele com os dados reais.\n",
    "\n",
    "A **Matriz de Confusão** é utilizada para fornecer um panorama do desempenho do modelo. Seus quadrantes estarão exemplificados mais abaixo."
   ]
  },
  {
   "cell_type": "code",
   "execution_count": 26,
   "metadata": {},
   "outputs": [
    {
     "name": "stdout",
     "output_type": "stream",
     "text": [
      "[[79  4]\n",
      " [37  6]]\n"
     ]
    }
   ],
   "source": [
    "# Matriz de confusão\n",
    "print(confusion_matrix(alvo_teste, alvo_pred))"
   ]
  },
  {
   "cell_type": "code",
   "execution_count": 27,
   "metadata": {},
   "outputs": [
    {
     "data": {
      "text/plain": [
       "<matplotlib.axes._subplots.AxesSubplot at 0x16821c2f9e8>"
      ]
     },
     "execution_count": 27,
     "metadata": {},
     "output_type": "execute_result"
    },
    {
     "data": {
      "image/png": "[encoded data removed]",
      "text/plain": [
       "<Figure size 432x288 with 2 Axes>"
      ]
     },
     "metadata": {
      "needs_background": "light"
     },
     "output_type": "display_data"
    }
   ],
   "source": [
    "matriz_confusao = pd.crosstab(alvo_teste, alvo_pred, rownames=['Atual'], colnames=['Previsto'])\n",
    "\n",
    "# Gera o gráfico da matriz de confusão\n",
    "sn.heatmap(matriz_confusao, annot=True)"
   ]
  },
  {
   "cell_type": "code",
   "execution_count": 28,
   "metadata": {},
   "outputs": [
    {
     "name": "stdout",
     "output_type": "stream",
     "text": [
      "Acurácia:  0.6746031746031746\n"
     ]
    }
   ],
   "source": [
    "# Acurácia do modelo\n",
    "print('Acurácia: ', metrics.accuracy_score(alvo_teste, alvo_pred)) # Desempenho geral do modelo"
   ]
  },
  {
   "cell_type": "code",
   "execution_count": 29,
   "metadata": {},
   "outputs": [
    {
     "name": "stdout",
     "output_type": "stream",
     "text": [
      "Precisão:  0.6\n",
      "Revocação:  0.13953488372093023\n",
      "F1-Measure:  0.22641509433962265\n",
      "ROC AUC:  0.5456710563182965\n"
     ]
    }
   ],
   "source": [
    "print('Precisão: ', metrics.precision_score(alvo_teste, alvo_pred)) # Quão precisas são as predições positivas\n",
    "\n",
    "print('Revocação: ', metrics.recall_score(alvo_teste, alvo_pred)) # Cobertura da amostra positiva real\n",
    "\n",
    "print('F1-Measure: ', metrics.f1_score(alvo_teste, alvo_pred)) # Métrica híbrida últil para classes desequelibradas\n",
    "\n",
    "print('ROC AUC: ', metrics.roc_auc_score(alvo_teste, alvo_pred)) # Cobertura de amostra negativa real"
   ]
  },
  {
   "cell_type": "code",
   "execution_count": 30,
   "metadata": {},
   "outputs": [
    {
     "name": "stdout",
     "output_type": "stream",
     "text": [
      "409    0\n",
      "170    0\n",
      "224    0\n",
      "390    0\n",
      "308    0\n",
      "307    0\n",
      "150    0\n",
      "10     1\n",
      "21     1\n",
      "261    0\n",
      "348    0\n",
      "59     1\n",
      "405    0\n",
      "198    0\n",
      "351    0\n",
      "76     1\n",
      "375    0\n",
      "164    0\n",
      "12     1\n",
      "188    0\n",
      "345    0\n",
      "37     1\n",
      "393    0\n",
      "54     1\n",
      "145    0\n",
      "286    0\n",
      "199    0\n",
      "254    0\n",
      "377    0\n",
      "309    0\n",
      "      ..\n",
      "349    0\n",
      "246    0\n",
      "154    0\n",
      "245    0\n",
      "389    0\n",
      "358    0\n",
      "217    0\n",
      "400    0\n",
      "340    0\n",
      "208    0\n",
      "56     1\n",
      "8      1\n",
      "399    0\n",
      "155    0\n",
      "158    0\n",
      "379    0\n",
      "276    0\n",
      "157    0\n",
      "106    1\n",
      "263    0\n",
      "63     1\n",
      "294    0\n",
      "168    0\n",
      "297    0\n",
      "356    0\n",
      "81     1\n",
      "107    1\n",
      "365    0\n",
      "413    0\n",
      "296    0\n",
      "Name: status, Length: 126, dtype: int64\n",
      "[0 0 0 0 0 0 0 0 0 0 0 0 0 1 0 0 0 0 0 0 0 0 0 0 0 0 0 0 0 0 0 0 0 0 0 0 0\n",
      " 0 0 0 0 1 0 0 0 0 0 0 0 0 0 0 0 0 1 0 0 0 1 0 1 0 0 0 0 0 0 0 1 0 0 0 0 0\n",
      " 0 0 0 0 0 0 0 0 0 0 0 0 0 1 0 0 0 0 1 0 0 0 0 0 0 0 0 0 0 0 0 0 0 0 0 0 0\n",
      " 0 0 0 0 0 1 0 0 0 0 0 1 0 0 0]\n"
     ]
    }
   ],
   "source": [
    "print(alvo_teste)\n",
    "print(alvo_pred)"
   ]
  },
  {
   "cell_type": "markdown",
   "metadata": {},
   "source": [
    "Entendendo as métricas acima:\n",
    "\n",
    "A precisão significa \"Quantos elementos selecionados são relevantes?\", ou seja: **Dos que meu modelo classificou como positivos, quantos realmente são positivos?**\n",
    "\n",
    "Enquanto a revocação nos dá \"Quantos elementos relevantes foram selecionados?\", ou seja: **Dos realmente positivos, quantos consegui selecionar?**\n",
    "\n",
    "Dificilmente a precisão ou revocação servirão isoladamente para avaliar a eficácia da classificação do modelo. A medida F1 é uma combinação da precisão e da revocação. \n",
    "Entretanto não há uma formula pronta para selecionar a melhor métrica de avaliação, é necessário compreender o contexto e o trade-off que cada medida traz."
   ]
  },
  {
   "cell_type": "code",
   "execution_count": 31,
   "metadata": {},
   "outputs": [
    {
     "name": "stdout",
     "output_type": "stream",
     "text": [
      "     total_ganho  perc_vitoria\n",
      "409    61.766224      0.231531\n",
      "170    51.502263      1.047998\n",
      "224    97.608497      0.386196\n",
      "390    73.873484      0.621601\n",
      "308    21.090297      0.513274\n",
      "307    69.004515      0.933924\n",
      "150    56.776792      0.557102\n",
      "10     52.038696      0.438484\n",
      "21     63.623461      0.689432\n",
      "261    74.926871      0.461900\n",
      "348   139.362442      0.537569\n",
      "59     51.949349      0.571743\n",
      "405    70.309010      0.831908\n",
      "198     0.000000      0.000000\n",
      "351    64.420936      0.567703\n",
      "76     58.723417      0.885671\n",
      "375    68.480525      0.264694\n",
      "164    79.734189      0.236414\n",
      "12     57.232877      0.716727\n",
      "188    45.595611      0.513274\n",
      "345    46.764483      0.618701\n",
      "37    126.049110      0.445125\n",
      "393    96.177351      0.615952\n",
      "54     83.082428      0.536631\n",
      "145    67.530523      0.276895\n",
      "286    55.262757      0.903631\n",
      "199    79.631643      0.808071\n",
      "254    78.042455      0.720291\n",
      "377    78.896580      0.522489\n",
      "309    97.040821      0.801267\n",
      "..           ...           ...\n",
      "349    38.322984      0.831908\n",
      "246   109.783318      0.602161\n",
      "154    39.254840      0.253522\n",
      "245    83.897469      0.606255\n",
      "389   115.973884      0.878941\n",
      "358    96.635378      0.861548\n",
      "217    72.865067      0.158568\n",
      "400    82.628052      0.343312\n",
      "340    74.889710      0.513274\n",
      "208    81.524468      0.438484\n",
      "56     70.808170      0.171879\n",
      "8      77.208922      0.576432\n",
      "399    70.627527      0.362496\n",
      "155   154.564201      0.579465\n",
      "158    84.205456      0.970509\n",
      "379    88.386233      0.841047\n",
      "276    77.380040      0.671716\n",
      "157    89.597815      0.589368\n",
      "106    66.550872      0.711606\n",
      "263    72.514546      0.523994\n",
      "63      0.000000      0.000000\n",
      "294    36.335118      0.105912\n",
      "168    68.013885      0.900364\n",
      "297    52.516865      0.374028\n",
      "356    50.371467      1.047998\n",
      "81     77.014671      0.544196\n",
      "107     0.000000      0.000000\n",
      "365    37.517282      1.047998\n",
      "413    42.568325      0.831908\n",
      "296    57.229243      0.071730\n",
      "\n",
      "[126 rows x 2 columns]\n",
      "409    0\n",
      "170    0\n",
      "224    0\n",
      "390    0\n",
      "308    0\n",
      "307    0\n",
      "150    0\n",
      "10     1\n",
      "21     1\n",
      "261    0\n",
      "348    0\n",
      "59     1\n",
      "405    0\n",
      "198    0\n",
      "351    0\n",
      "76     1\n",
      "375    0\n",
      "164    0\n",
      "12     1\n",
      "188    0\n",
      "345    0\n",
      "37     1\n",
      "393    0\n",
      "54     1\n",
      "145    0\n",
      "286    0\n",
      "199    0\n",
      "254    0\n",
      "377    0\n",
      "309    0\n",
      "      ..\n",
      "349    0\n",
      "246    0\n",
      "154    0\n",
      "245    0\n",
      "389    0\n",
      "358    0\n",
      "217    0\n",
      "400    0\n",
      "340    0\n",
      "208    0\n",
      "56     1\n",
      "8      1\n",
      "399    0\n",
      "155    0\n",
      "158    0\n",
      "379    0\n",
      "276    0\n",
      "157    0\n",
      "106    1\n",
      "263    0\n",
      "63     1\n",
      "294    0\n",
      "168    0\n",
      "297    0\n",
      "356    0\n",
      "81     1\n",
      "107    1\n",
      "365    0\n",
      "413    0\n",
      "296    0\n",
      "Name: status, Length: 126, dtype: int64\n",
      "[0 0 0 0 0 0 0 0 0 0 0 0 0 1 0 0 0 0 0 0 0 0 0 0 0 0 0 0 0 0 0 0 0 0 0 0 0\n",
      " 0 0 0 0 1 0 0 0 0 0 0 0 0 0 0 0 0 1 0 0 0 1 0 1 0 0 0 0 0 0 0 1 0 0 0 0 0\n",
      " 0 0 0 0 0 0 0 0 0 0 0 0 0 1 0 0 0 0 1 0 0 0 0 0 0 0 0 0 0 0 0 0 0 0 0 0 0\n",
      " 0 0 0 0 0 1 0 0 0 0 0 1 0 0 0]\n"
     ]
    }
   ],
   "source": [
    "# Só pra conferir:\n",
    "\n",
    "# A predição foi feita para os seguintes registros:\n",
    "print(preditores_teste) \n",
    "# Que possuíam a seguinte classificação:\n",
    "print(alvo_teste)\n",
    "# E Que obtiveram o seguinte resultado do modelo:\n",
    "print(alvo_pred)"
   ]
  },
  {
   "cell_type": "markdown",
   "metadata": {},
   "source": [
    "### 2 - Árvore de Decisão"
   ]
  },
  {
   "cell_type": "markdown",
   "metadata": {},
   "source": [
    "Neste caso, iremos utilizar os mesmos dados do exemplo anterior para fins de comparação dos modelos treinados. Para comparar modelos corretamente, é preciso que seu treinamento seja realizado com os mesmos conjuntos de treino e teste."
   ]
  },
  {
   "cell_type": "code",
   "execution_count": 32,
   "metadata": {},
   "outputs": [
    {
     "name": "stdout",
     "output_type": "stream",
     "text": [
      "Preditores Treino\n",
      "     total_ganho  perc_vitoria\n",
      "96     51.932079      1.047998\n",
      "380    59.365457      0.418163\n",
      "89     69.221444      0.593068\n",
      "233    91.111673      0.577646\n",
      "191    49.546082      0.408692\n",
      "353    49.587965      0.513274\n",
      "253    70.097041      0.838835\n",
      "92    101.207998      0.517841\n",
      "240    28.096052      0.000000\n",
      "194    69.556413      0.513274\n",
      "381    86.136691      0.556699\n",
      "159    61.169175      0.540938\n",
      "206    43.333210      0.178259\n",
      "66     96.798758      0.584419\n",
      "278     0.000000      0.000000\n",
      "175    41.792732      1.047998\n",
      "140   125.979599      0.384743\n",
      "101    89.736137      0.536123\n",
      "326    71.406287      0.246765\n",
      "205    58.897179      0.711606\n",
      "342     0.000000      0.000000\n",
      "17     72.249707      0.927608\n",
      "146    58.561432      0.144040\n",
      "171    45.258153      0.513274\n",
      "218   103.405517      0.285985\n",
      "30     40.195025      0.091395\n",
      "114    86.293085      0.680105\n",
      "320    61.048837      1.047998\n",
      "103    51.137360      0.740164\n",
      "196    44.538452      0.276895\n",
      "..           ...           ...\n",
      "115    97.456266      0.778325\n",
      "265    82.732195      0.407691\n",
      "72     67.878089      0.513274\n",
      "333    82.710420      0.529035\n",
      "25     55.565309      0.370882\n",
      "165    88.672573      0.444970\n",
      "337    75.086726      0.760504\n",
      "401    77.561532      0.458696\n",
      "174    29.141976      0.740164\n",
      "403    88.763485      0.535479\n",
      "39      0.000000      0.000000\n",
      "193    43.901022      1.047998\n",
      "314   104.932978      0.493731\n",
      "396    77.654203      0.672952\n",
      "88     82.564220      0.420950\n",
      "70     43.948411      0.225025\n",
      "87     56.493406      0.253522\n",
      "292    49.805123      0.438484\n",
      "242    63.998584      0.716727\n",
      "277    63.431478      0.831908\n",
      "211    92.667783      0.347207\n",
      "9      61.941938      0.831908\n",
      "359    65.455997      0.339466\n",
      "195   110.245187      0.586741\n",
      "251    77.589434      0.232142\n",
      "323   117.661516      0.630907\n",
      "192    59.881993      0.339466\n",
      "117    38.191009      0.000000\n",
      "47     70.328283      0.645184\n",
      "172    83.446803      0.716727\n",
      "\n",
      "[291 rows x 2 columns]\n",
      "Preditores Teste\n",
      "     total_ganho  perc_vitoria\n",
      "409    61.766224      0.231531\n",
      "170    51.502263      1.047998\n",
      "224    97.608497      0.386196\n",
      "390    73.873484      0.621601\n",
      "308    21.090297      0.513274\n",
      "307    69.004515      0.933924\n",
      "150    56.776792      0.557102\n",
      "10     52.038696      0.438484\n",
      "21     63.623461      0.689432\n",
      "261    74.926871      0.461900\n",
      "348   139.362442      0.537569\n",
      "59     51.949349      0.571743\n",
      "405    70.309010      0.831908\n",
      "198     0.000000      0.000000\n",
      "351    64.420936      0.567703\n",
      "76     58.723417      0.885671\n",
      "375    68.480525      0.264694\n",
      "164    79.734189      0.236414\n",
      "12     57.232877      0.716727\n",
      "188    45.595611      0.513274\n",
      "345    46.764483      0.618701\n",
      "37    126.049110      0.445125\n",
      "393    96.177351      0.615952\n",
      "54     83.082428      0.536631\n",
      "145    67.530523      0.276895\n",
      "286    55.262757      0.903631\n",
      "199    79.631643      0.808071\n",
      "254    78.042455      0.720291\n",
      "377    78.896580      0.522489\n",
      "309    97.040821      0.801267\n",
      "..           ...           ...\n",
      "349    38.322984      0.831908\n",
      "246   109.783318      0.602161\n",
      "154    39.254840      0.253522\n",
      "245    83.897469      0.606255\n",
      "389   115.973884      0.878941\n",
      "358    96.635378      0.861548\n",
      "217    72.865067      0.158568\n",
      "400    82.628052      0.343312\n",
      "340    74.889710      0.513274\n",
      "208    81.524468      0.438484\n",
      "56     70.808170      0.171879\n",
      "8      77.208922      0.576432\n",
      "399    70.627527      0.362496\n",
      "155   154.564201      0.579465\n",
      "158    84.205456      0.970509\n",
      "379    88.386233      0.841047\n",
      "276    77.380040      0.671716\n",
      "157    89.597815      0.589368\n",
      "106    66.550872      0.711606\n",
      "263    72.514546      0.523994\n",
      "63      0.000000      0.000000\n",
      "294    36.335118      0.105912\n",
      "168    68.013885      0.900364\n",
      "297    52.516865      0.374028\n",
      "356    50.371467      1.047998\n",
      "81     77.014671      0.544196\n",
      "107     0.000000      0.000000\n",
      "365    37.517282      1.047998\n",
      "413    42.568325      0.831908\n",
      "296    57.229243      0.071730\n",
      "\n",
      "[126 rows x 2 columns]\n",
      "Alvo Treino\n",
      "96     1\n",
      "380    0\n",
      "89     1\n",
      "233    0\n",
      "191    0\n",
      "353    0\n",
      "253    0\n",
      "92     1\n",
      "240    0\n",
      "194    0\n",
      "381    0\n",
      "159    0\n",
      "206    0\n",
      "66     1\n",
      "278    0\n",
      "175    0\n",
      "140    0\n",
      "101    1\n",
      "326    0\n",
      "205    0\n",
      "342    0\n",
      "17     1\n",
      "146    0\n",
      "171    0\n",
      "218    0\n",
      "30     1\n",
      "114    1\n",
      "320    0\n",
      "103    1\n",
      "196    0\n",
      "      ..\n",
      "115    1\n",
      "265    0\n",
      "72     1\n",
      "333    0\n",
      "25     1\n",
      "165    0\n",
      "337    0\n",
      "401    0\n",
      "174    0\n",
      "403    0\n",
      "39     1\n",
      "193    0\n",
      "314    0\n",
      "396    0\n",
      "88     1\n",
      "70     1\n",
      "87     1\n",
      "292    0\n",
      "242    0\n",
      "277    0\n",
      "211    0\n",
      "9      1\n",
      "359    0\n",
      "195    0\n",
      "251    0\n",
      "323    0\n",
      "192    0\n",
      "117    1\n",
      "47     1\n",
      "172    0\n",
      "Name: status, Length: 291, dtype: int64\n",
      "Alvo Teste\n",
      "409    0\n",
      "170    0\n",
      "224    0\n",
      "390    0\n",
      "308    0\n",
      "307    0\n",
      "150    0\n",
      "10     1\n",
      "21     1\n",
      "261    0\n",
      "348    0\n",
      "59     1\n",
      "405    0\n",
      "198    0\n",
      "351    0\n",
      "76     1\n",
      "375    0\n",
      "164    0\n",
      "12     1\n",
      "188    0\n",
      "345    0\n",
      "37     1\n",
      "393    0\n",
      "54     1\n",
      "145    0\n",
      "286    0\n",
      "199    0\n",
      "254    0\n",
      "377    0\n",
      "309    0\n",
      "      ..\n",
      "349    0\n",
      "246    0\n",
      "154    0\n",
      "245    0\n",
      "389    0\n",
      "358    0\n",
      "217    0\n",
      "400    0\n",
      "340    0\n",
      "208    0\n",
      "56     1\n",
      "8      1\n",
      "399    0\n",
      "155    0\n",
      "158    0\n",
      "379    0\n",
      "276    0\n",
      "157    0\n",
      "106    1\n",
      "263    0\n",
      "63     1\n",
      "294    0\n",
      "168    0\n",
      "297    0\n",
      "356    0\n",
      "81     1\n",
      "107    1\n",
      "365    0\n",
      "413    0\n",
      "296    0\n",
      "Name: status, Length: 126, dtype: int64\n"
     ]
    }
   ],
   "source": [
    "print(\"Preditores Treino\")\n",
    "print(preditores_treino)\n",
    "\n",
    "print(\"Preditores Teste\")\n",
    "print(preditores_teste)\n",
    "\n",
    "print(\"Alvo Treino\")\n",
    "print(alvo_treino)\n",
    "\n",
    "print(\"Alvo Teste\")\n",
    "print(alvo_teste)"
   ]
  },
  {
   "cell_type": "code",
   "execution_count": 33,
   "metadata": {},
   "outputs": [],
   "source": [
    "# Com isso, já conseguimos construir a árvore:\n",
    "from sklearn.tree import DecisionTreeClassifier\n",
    "\n",
    "# Cria uma instância default\n",
    "dt = DecisionTreeClassifier()\n",
    "\n",
    "# Treina o modelo com os dados dos alunos\n",
    "arvore_decisao = dt.fit(preditores_treino, alvo_treino)"
   ]
  },
  {
   "cell_type": "code",
   "execution_count": 34,
   "metadata": {},
   "outputs": [],
   "source": [
    "# Realiza a previsão nos dados de teste\n",
    "arvore_previsao = arvore_decisao.predict(preditores_teste)"
   ]
  },
  {
   "cell_type": "code",
   "execution_count": 35,
   "metadata": {},
   "outputs": [
    {
     "name": "stdout",
     "output_type": "stream",
     "text": [
      "[1 1 0 1 1 1 0 0 0 0 0 1 0 1 0 0 0 1 0 0 0 0 0 1 1 0 0 0 1 0 0 1 0 1 0 0 0\n",
      " 0 0 1 1 1 0 1 0 1 1 0 1 0 0 0 0 0 1 0 0 1 1 0 1 0 1 1 0 1 1 1 1 1 1 0 0 0\n",
      " 1 1 1 0 1 0 0 0 1 1 0 0 1 1 0 0 0 1 1 0 0 0 0 0 1 1 0 0 1 0 0 1 1 0 1 0 1\n",
      " 0 0 0 0 0 1 1 0 0 0 1 1 0 0 0]\n"
     ]
    }
   ],
   "source": [
    "print(arvore_previsao)"
   ]
  },
  {
   "cell_type": "markdown",
   "metadata": {},
   "source": [
    "Treinado o modelo e feita a predição no conjunto de teste, nos resta saber o quão acurada foi a previsão do nosso modelo de árvore.\n",
    "\n",
    "Para isso, usaremos as mesmas métricas utilizadas anteriormente."
   ]
  },
  {
   "cell_type": "code",
   "execution_count": 36,
   "metadata": {},
   "outputs": [
    {
     "name": "stdout",
     "output_type": "stream",
     "text": [
      "Acurácia:  0.5873015873015873\n",
      "Precisão:  0.41509433962264153\n",
      "Revocação:  0.5116279069767442\n",
      "F1-Measure:  0.45833333333333337\n",
      "ROC AUC:  0.5690669655365649\n"
     ]
    }
   ],
   "source": [
    "print(\"Acurácia: \", metrics.accuracy_score(alvo_teste, arvore_previsao)) # Desempenho geral do modelo\n",
    "\n",
    "print('Precisão: ', metrics.precision_score(alvo_teste, arvore_previsao)) # Quão precisas são as predições positivas\n",
    "\n",
    "print('Revocação: ', metrics.recall_score(alvo_teste, arvore_previsao)) # Cobertura da amostra positiva real\n",
    "\n",
    "print('F1-Measure: ', metrics.f1_score(alvo_teste, arvore_previsao)) # Métrica híbrida últil para classes desequelibradas\n",
    "\n",
    "print('ROC AUC: ', metrics.roc_auc_score(alvo_teste, arvore_previsao)) # Cobertura de amostra negativa real"
   ]
  },
  {
   "cell_type": "code",
   "execution_count": 37,
   "metadata": {},
   "outputs": [
    {
     "name": "stdout",
     "output_type": "stream",
     "text": [
      "[[52 31]\n",
      " [21 22]]\n"
     ]
    },
    {
     "data": {
      "text/plain": [
       "<matplotlib.axes._subplots.AxesSubplot at 0x16821de5ef0>"
      ]
     },
     "execution_count": 37,
     "metadata": {},
     "output_type": "execute_result"
    },
    {
     "data": {
      "image/png": "[encoded data removed]",
      "text/plain": [
       "<Figure size 432x288 with 2 Axes>"
      ]
     },
     "metadata": {
      "needs_background": "light"
     },
     "output_type": "display_data"
    }
   ],
   "source": [
    "# Matriz de Confusão\n",
    "print(confusion_matrix(alvo_teste, arvore_previsao))\n",
    "\n",
    "\n",
    "matriz_confusao_arvore = pd.crosstab(alvo_teste, arvore_previsao, rownames=['Atual'], colnames=['Previsto'])\n",
    "\n",
    "# Gera o gráfico da matriz de confusão\n",
    "sn.heatmap(matriz_confusao_arvore, annot=True)"
   ]
  },
  {
   "cell_type": "markdown",
   "metadata": {},
   "source": [
    "**Para refletir**\n",
    "\n",
    "**O que pode ter acontecido com a árvore?** \n",
    "\n",
    "Pode-se perceber que a **Regressão Logística** treinou bastante e exclusivamente os Status dos contratos. Assim, ocasionando em uma Acurácia, o modelo de regressão logística obteve uma acurácia de 0.674 e precisao de 0.6. Bem diferente da **árvore** em que a acurácia ficou em 0.587 com precisão em 0.415, no qual foi necessário tomar uma iniciativa para uma abordagem ainda maior mediante a base no que se diz a respeito de qual modelo melhor se encaixaria. \n",
    "\n",
    "**Qual dos modelos é mais eficaz?**\n",
    "\n",
    "A resposta para essa pergunta foi o uso da **Regressão logística**,da qual melhor explicou meus dados a cerca de % **teste** e % de **predição**.\n",
    "\n",
    "**É possível melhorar a classificação?**\n",
    "\n",
    "Sim, com toda certeza, visto que o nosso modelo de aprendizagem de máquina pode haver diferentes maneiras de se analisar."
   ]
  },
  {
   "cell_type": "markdown",
   "metadata": {},
   "source": [
    "**Quais minhas maiores dificuldades?**\n",
    "\n",
    "A minha maior dificuldade não foi o entendimento das variáveis e sim, os valores para serem mostrados como resultados eficazes de nossa análise, tendo em vista aspectos negativos no uso da **Regressão Logistica**, em que pode-se notar a diferença no uso da **Árvore de decisão** como ponto chave dessa primeira análise. Assim, decidi analisar os contratos rescindidos e os não rescindidos.\n"
   ]
  },
  {
   "cell_type": "markdown",
   "metadata": {},
   "source": [
    "**Quais os aprendizados?**\n",
    "\n",
    "Aprendi a entender melhor cada variável, no qual fiz uma análise detalhada em um passo-a-passo efizaz."
   ]
  },
  {
   "cell_type": "markdown",
   "metadata": {},
   "source": [
    "### EXTRA"
   ]
  },
  {
   "cell_type": "markdown",
   "metadata": {},
   "source": [
    "--------\n",
    "### Justiça & Explicabilidade em Modelos\n",
    "\n",
    "### Explorando os dados, construindo e interpretando grupos\n",
    "\n",
    "Para inciarmos com um nova análise a cerda dos dados da Obra para essa segunda etapa do projeto, será necessário duas coisas\n",
    "\n",
    "- 1) Agrupamento Hierárquico\n",
    "- 2) K-Means\n",
    "\n",
    "--------"
   ]
  },
  {
   "cell_type": "markdown",
   "metadata": {},
   "source": [
    "### Nosso novo problema:\n",
    "\n",
    "O tipo de problema que desejamos responder com agrupamentos é totalmente diferente do que respondemos com regressão e classificação. **O objetivo é encontrar padrões que denotem grupos, agrupamentos de ocorrências com características semelhantes**.\n",
    "\n",
    "Neste caso, queremos saber se *existem municípios que mais lucraram de acordo com o total de ganhos mediante as empresas*?\n"
   ]
  },
  {
   "cell_type": "markdown",
   "metadata": {},
   "source": [
    "No contexto do nosso problema, queremos diferenciar o número de municípios em relação aos ganhos obitivos pelas empresas. Das características disponíveis no dataset, as variáveis que denotam isso são: n_municipios e total_ganho.\n",
    "\n",
    "Selecionando apenas as colunas que temos interesse:"
   ]
  },
  {
   "cell_type": "code",
   "execution_count": 38,
   "metadata": {},
   "outputs": [],
   "source": [
    "contratos_filtro = contratos[['n_municipios', 'total_ganho']] # separando as variáveis da base de dados"
   ]
  },
  {
   "cell_type": "code",
   "execution_count": 39,
   "metadata": {},
   "outputs": [
    {
     "name": "stdout",
     "output_type": "stream",
     "text": [
      "<class 'pandas.core.frame.DataFrame'>\n",
      "RangeIndex: 417 entries, 0 to 416\n",
      "Data columns (total 2 columns):\n",
      "n_municipios    417 non-null float64\n",
      "total_ganho     417 non-null float64\n",
      "dtypes: float64(2)\n",
      "memory usage: 6.6 KB\n"
     ]
    }
   ],
   "source": [
    "contratos_filtro.info() # informação geral, note que não pontos lutuantes"
   ]
  },
  {
   "cell_type": "markdown",
   "metadata": {},
   "source": [
    "---"
   ]
  },
  {
   "cell_type": "markdown",
   "metadata": {},
   "source": [
    "## Agrupamento Hierárquico\n",
    "\n",
    "A partir disso já conseguimos realizar a primeira visualização de grupos nos dados"
   ]
  },
  {
   "cell_type": "code",
   "execution_count": 40,
   "metadata": {},
   "outputs": [
    {
     "data": {
      "text/plain": [
       "Index(['CNPJ', 'cd_UGestora', 'nu_Contrato', 'tp_Licitacao',\n",
       "       'vl_TotalContrato', 'n_municipios', 'n_ugestora', 'total_ganho',\n",
       "       'perc_vitoria', 'idade_empresa_anos', 'descricao_tipo_logradouro',\n",
       "       'porte_empresa', 'diff_abertura_primeiro_empenho', 'status',\n",
       "       'media_num_contratos'],\n",
       "      dtype='object')"
      ]
     },
     "execution_count": 40,
     "metadata": {},
     "output_type": "execute_result"
    }
   ],
   "source": [
    "contratos.columns "
   ]
  },
  {
   "cell_type": "code",
   "execution_count": 41,
   "metadata": {},
   "outputs": [
    {
     "data": {
      "image/png": "[encoded data removed]",
      "text/plain": [
       "<Figure size 432x288 with 1 Axes>"
      ]
     },
     "metadata": {
      "needs_background": "light"
     },
     "output_type": "display_data"
    }
   ],
   "source": [
    "dendrograma = sch.dendrogram(sch.linkage(contratos_filtro, method='complete'))\n",
    "plt.title('Dendrograma')\n",
    "plt.xlabel('Número de Municípios')\n",
    "plt.ylabel('Total Ganho')\n",
    "plt.show()"
   ]
  },
  {
   "cell_type": "markdown",
   "metadata": {},
   "source": [
    ">A distância vertical no gráfico representa a distância entre as observações/grupos, a dissimilaridade entre aquelas observações ou grupos (a depender do nível observado). \n",
    "Uma maneira comum para analisar a quantidade de grupos no conjunto de dados é traçar linhas horizontais no dendrograma e verificar a quantidade de grupos evidentes e, em seguida, verificar a distância entre eles, nos interessa uma maior distância intergrupo. \n",
    "**Note que não houve essa distância intensa entre os grupo, isso nos mostra uma similaridade entre os dados.**"
   ]
  },
  {
   "cell_type": "markdown",
   "metadata": {},
   "source": [
    "À primeira vista, vemos a presença de 1 grupo pequeno. Com arestas **verdes**, há 3 agrupamentos de dados com uma distância pequena entre si, entretanto com uma distância maior em relação aos agrupamentos mais abaixo.\n",
    "\n",
    "Do lado **vermelho**, essa distância já é menos evidente.\n",
    "\n",
    "Traçando uma linha pouco abaixo de y=85 á 90, temos 3 agrupamentos de dados.\n",
    "\n",
    "Traçando uma linha em ~y=60, temos mais de 7 agrupamentos de dados não muito visível."
   ]
  },
  {
   "cell_type": "markdown",
   "metadata": {},
   "source": [
    "#### Construindo o taggeamento dos grupos"
   ]
  },
  {
   "cell_type": "code",
   "execution_count": 42,
   "metadata": {},
   "outputs": [],
   "source": [
    "modelo_hierarquico = AgglomerativeClustering(n_clusters = 3, affinity='euclidean', linkage='complete')\n",
    "\n",
    "# O Ward tenta minimizar a variância em cada grupo. Aqui são alguns exemplos\n",
    "# ward, single, average, and complete\n",
    "# Portanto, usaremos o complete pelo fato que dar um maior alcance na visiaçização do dado posteriormente"
   ]
  },
  {
   "cell_type": "code",
   "execution_count": 43,
   "metadata": {},
   "outputs": [
    {
     "data": {
      "text/plain": [
       "AgglomerativeClustering(affinity='euclidean', compute_full_tree='auto',\n",
       "            connectivity=None, linkage='complete', memory=None,\n",
       "            n_clusters=3, pooling_func='deprecated')"
      ]
     },
     "execution_count": 43,
     "metadata": {},
     "output_type": "execute_result"
    }
   ],
   "source": [
    "modelo_hierarquico # montando o modelo hierarquico"
   ]
  },
  {
   "cell_type": "code",
   "execution_count": 44,
   "metadata": {},
   "outputs": [
    {
     "data": {
      "text/plain": [
       "array([1, 2, 2, 0, 2, 2, 2, 1, 2, 2, 1, 2, 2, 0, 1, 1, 2, 2, 2, 0, 2, 2,\n",
       "       2, 2, 2, 2, 1, 1, 2, 2, 1, 1, 2, 2, 1, 2, 0, 0, 1, 1, 1, 1, 1, 2,\n",
       "       2, 0, 2, 2, 2, 2, 2, 2, 2, 2, 2, 2, 2, 2, 1, 1, 1, 2, 2, 1, 0, 1,\n",
       "       0, 2, 2, 2, 1, 2, 2, 2, 1, 1, 2, 2, 1, 2, 2, 2, 1, 2, 2, 2, 2, 2,\n",
       "       2, 2, 2, 2, 0, 1, 1, 1, 1, 2, 1, 2, 2, 2, 1, 1, 1, 2, 2, 1, 1, 2,\n",
       "       1, 1, 2, 1, 2, 0, 2, 1, 2, 0, 2, 0, 0, 2, 2, 2, 1, 2, 2, 2, 2, 1,\n",
       "       1, 1, 2, 2, 2, 1, 1, 2, 0, 2, 1, 2, 1, 2, 2, 1, 0, 0, 2, 1, 0, 2,\n",
       "       1, 0, 0, 2, 2, 2, 2, 2, 0, 2, 2, 2, 0, 0, 2, 2, 1, 1, 2, 1, 1, 1,\n",
       "       0, 1, 2, 2, 2, 1, 2, 2, 1, 0, 2, 0, 1, 2, 1, 1, 2, 1, 2, 0, 1, 0,\n",
       "       1, 2, 2, 0, 0, 1, 0, 2, 1, 2, 2, 1, 2, 0, 0, 1, 2, 1, 1, 2, 0, 2,\n",
       "       2, 1, 1, 2, 0, 2, 2, 0, 2, 0, 2, 1, 0, 2, 1, 1, 1, 0, 2, 2, 1, 2,\n",
       "       2, 2, 0, 2, 0, 2, 0, 1, 2, 2, 2, 2, 2, 2, 2, 2, 2, 2, 1, 2, 2, 2,\n",
       "       2, 2, 2, 0, 0, 1, 2, 0, 0, 2, 2, 1, 2, 2, 1, 1, 1, 0, 2, 0, 2, 0,\n",
       "       2, 0, 0, 0, 1, 0, 1, 2, 1, 2, 2, 1, 0, 0, 2, 0, 1, 0, 0, 2, 2, 2,\n",
       "       1, 0, 2, 0, 1, 1, 0, 2, 1, 1, 2, 1, 2, 1, 0, 0, 2, 2, 2, 2, 0, 1,\n",
       "       2, 2, 2, 2, 1, 0, 2, 2, 2, 0, 2, 2, 1, 2, 2, 1, 2, 2, 0, 1, 1, 2,\n",
       "       0, 1, 1, 0, 1, 1, 0, 2, 2, 2, 0, 2, 1, 1, 2, 2, 0, 0, 2, 2, 2, 2,\n",
       "       0, 2, 2, 2, 1, 2, 2, 2, 2, 2, 2, 2, 1, 2, 1, 0, 2, 0, 1, 0, 1, 2,\n",
       "       2, 2, 0, 2, 2, 2, 2, 2, 2, 2, 2, 1, 2, 2, 2, 2, 0, 1, 1, 2, 2],\n",
       "      dtype=int64)"
      ]
     },
     "execution_count": 44,
     "metadata": {},
     "output_type": "execute_result"
    }
   ],
   "source": [
    "modelo_hierarquico.fit_predict(contratos_filtro) # efetuando o predict para o nosso filtro"
   ]
  },
  {
   "cell_type": "code",
   "execution_count": 45,
   "metadata": {},
   "outputs": [
    {
     "name": "stdout",
     "output_type": "stream",
     "text": [
      "[1 2 2 0 2 2 2 1 2 2 1 2 2 0 1 1 2 2 2 0 2 2 2 2 2 2 1 1 2 2 1 1 2 2 1 2 0\n",
      " 0 1 1 1 1 1 2 2 0 2 2 2 2 2 2 2 2 2 2 2 2 1 1 1 2 2 1 0 1 0 2 2 2 1 2 2 2\n",
      " 1 1 2 2 1 2 2 2 1 2 2 2 2 2 2 2 2 2 0 1 1 1 1 2 1 2 2 2 1 1 1 2 2 1 1 2 1\n",
      " 1 2 1 2 0 2 1 2 0 2 0 0 2 2 2 1 2 2 2 2 1 1 1 2 2 2 1 1 2 0 2 1 2 1 2 2 1\n",
      " 0 0 2 1 0 2 1 0 0 2 2 2 2 2 0 2 2 2 0 0 2 2 1 1 2 1 1 1 0 1 2 2 2 1 2 2 1\n",
      " 0 2 0 1 2 1 1 2 1 2 0 1 0 1 2 2 0 0 1 0 2 1 2 2 1 2 0 0 1 2 1 1 2 0 2 2 1\n",
      " 1 2 0 2 2 0 2 0 2 1 0 2 1 1 1 0 2 2 1 2 2 2 0 2 0 2 0 1 2 2 2 2 2 2 2 2 2\n",
      " 2 1 2 2 2 2 2 2 0 0 1 2 0 0 2 2 1 2 2 1 1 1 0 2 0 2 0 2 0 0 0 1 0 1 2 1 2\n",
      " 2 1 0 0 2 0 1 0 0 2 2 2 1 0 2 0 1 1 0 2 1 1 2 1 2 1 0 0 2 2 2 2 0 1 2 2 2\n",
      " 2 1 0 2 2 2 0 2 2 1 2 2 1 2 2 0 1 1 2 0 1 1 0 1 1 0 2 2 2 0 2 1 1 2 2 0 0\n",
      " 2 2 2 2 0 2 2 2 1 2 2 2 2 2 2 2 1 2 1 0 2 0 1 0 1 2 2 2 0 2 2 2 2 2 2 2 2\n",
      " 1 2 2 2 2 0 1 1 2 2]\n"
     ]
    }
   ],
   "source": [
    "print(modelo_hierarquico.labels_) # visualizando de modo que mostre os labels de nosso modelo para minimiazr a visualização"
   ]
  },
  {
   "cell_type": "code",
   "execution_count": 46,
   "metadata": {},
   "outputs": [
    {
     "data": {
      "text/plain": [
       "<matplotlib.axes._subplots.AxesSubplot at 0x16821e07be0>"
      ]
     },
     "execution_count": 46,
     "metadata": {},
     "output_type": "execute_result"
    },
    {
     "data": {
      "image/png": "[encoded data removed]",
      "text/plain": [
       "<Figure size 432x288 with 2 Axes>"
      ]
     },
     "metadata": {
      "needs_background": "light"
     },
     "output_type": "display_data"
    }
   ],
   "source": [
    "contratos_filtro.plot.scatter(x='n_municipios', y='total_ganho', c=modelo_hierarquico.labels_, cmap='rainbow')"
   ]
  },
  {
   "cell_type": "markdown",
   "metadata": {},
   "source": [
    "Pode-se dizer que de acordo com a hierarquia analisada extraída do Dendrograma , pode se perceber 3 grupos. Analisando de baixo para cima temos:\n",
    "\n",
    "\n",
    "-**Grupo verde:** Mostra o número de municípios que menos faturaram com as obras.\n",
    "\n",
    "-**Grupo Vermelho:** São municípios que estão na média em termos de ganhos.\n",
    "\n",
    "-**Grupo Roxo:** Esse grupo mostra os que mais faturaram com as obras.\n",
    "\n",
    "Então, a pergunta para essa análise seria: **\"Queremos saber se existem grupos mediante ao número de  município que mais se destacaram em termos de ganhos com as obra?\"**"
   ]
  },
  {
   "cell_type": "markdown",
   "metadata": {},
   "source": [
    "### E se utilizássemos um número diferente de grupos?"
   ]
  },
  {
   "cell_type": "code",
   "execution_count": 47,
   "metadata": {},
   "outputs": [],
   "source": [
    "modelo_hierarquico_dois = AgglomerativeClustering(n_clusters = 5, affinity='euclidean', linkage='ward')"
   ]
  },
  {
   "cell_type": "code",
   "execution_count": 48,
   "metadata": {},
   "outputs": [],
   "source": [
    "modelo_hierarquico_dois.fit_predict(contratos_filtro)\n",
    "\n",
    "predicao_dois = modelo_hierarquico_dois.fit_predict(contratos_filtro)"
   ]
  },
  {
   "cell_type": "code",
   "execution_count": 49,
   "metadata": {},
   "outputs": [
    {
     "data": {
      "text/plain": [
       "array([4, 3, 1, 0, 3, 1, 3, 4, 1, 3, 3, 3, 3, 0, 2, 4, 3, 1, 1, 0, 3, 3,\n",
       "       3, 1, 1, 3, 2, 3, 1, 1, 4, 2, 3, 3, 2, 1, 0, 0, 2, 2, 4, 4, 3, 3,\n",
       "       1, 0, 1, 1, 1, 1, 1, 1, 1, 1, 1, 1, 1, 1, 2, 3, 4, 3, 1, 2, 0, 3,\n",
       "       0, 1, 1, 1, 4, 1, 1, 1, 4, 2, 3, 1, 2, 1, 1, 1, 2, 1, 1, 1, 1, 3,\n",
       "       1, 1, 3, 1, 0, 4, 4, 3, 3, 1, 4, 1, 1, 1, 4, 3, 3, 3, 1, 2, 2, 3,\n",
       "       4, 2, 0, 3, 1, 0, 1, 4, 1, 0, 3, 0, 0, 1, 1, 1, 4, 1, 1, 1, 1, 3,\n",
       "       3, 4, 3, 1, 1, 4, 4, 1, 0, 3, 3, 3, 2, 1, 3, 4, 0, 0, 3, 3, 0, 1,\n",
       "       4, 0, 0, 1, 1, 3, 3, 3, 0, 1, 1, 1, 0, 0, 1, 3, 3, 3, 1, 4, 4, 4,\n",
       "       0, 4, 3, 1, 3, 4, 3, 1, 2, 0, 1, 0, 3, 3, 2, 3, 3, 4, 1, 0, 4, 0,\n",
       "       2, 1, 1, 0, 0, 3, 0, 3, 4, 3, 1, 3, 1, 0, 0, 4, 1, 4, 4, 1, 0, 1,\n",
       "       3, 3, 4, 3, 0, 1, 1, 0, 3, 0, 1, 4, 0, 1, 2, 4, 4, 0, 1, 1, 4, 1,\n",
       "       3, 1, 0, 1, 0, 3, 0, 3, 1, 1, 1, 1, 1, 1, 3, 3, 1, 1, 4, 1, 1, 1,\n",
       "       1, 1, 1, 0, 0, 3, 3, 0, 0, 0, 3, 3, 1, 3, 2, 2, 4, 0, 1, 0, 1, 0,\n",
       "       3, 0, 0, 0, 4, 0, 3, 1, 4, 3, 3, 3, 0, 0, 3, 0, 3, 0, 0, 1, 3, 1,\n",
       "       4, 0, 1, 0, 3, 3, 0, 3, 4, 3, 1, 3, 3, 3, 0, 0, 1, 1, 1, 1, 0, 3,\n",
       "       0, 1, 3, 1, 4, 0, 3, 1, 3, 0, 1, 1, 2, 1, 3, 3, 1, 3, 0, 4, 4, 3,\n",
       "       0, 3, 4, 0, 3, 4, 0, 3, 1, 3, 0, 3, 4, 4, 1, 1, 0, 0, 1, 1, 3, 1,\n",
       "       0, 1, 1, 1, 2, 1, 3, 1, 1, 3, 3, 1, 4, 1, 3, 0, 1, 0, 4, 0, 3, 1,\n",
       "       1, 1, 0, 1, 1, 1, 3, 1, 1, 1, 1, 4, 3, 3, 1, 3, 0, 4, 4, 3, 1],\n",
       "      dtype=int64)"
      ]
     },
     "execution_count": 49,
     "metadata": {},
     "output_type": "execute_result"
    }
   ],
   "source": [
    "predicao_dois"
   ]
  },
  {
   "cell_type": "code",
   "execution_count": 50,
   "metadata": {},
   "outputs": [
    {
     "data": {
      "text/plain": [
       "<matplotlib.axes._subplots.AxesSubplot at 0x16823354400>"
      ]
     },
     "execution_count": 50,
     "metadata": {},
     "output_type": "execute_result"
    },
    {
     "data": {
      "image/png": "[encoded data removed]",
      "text/plain": [
       "<Figure size 432x288 with 2 Axes>"
      ]
     },
     "metadata": {
      "needs_background": "light"
     },
     "output_type": "display_data"
    }
   ],
   "source": [
    "contratos_filtro.plot.scatter(x='n_municipios', y='total_ganho', c=modelo_hierarquico_dois.labels_, cmap='rainbow')"
   ]
  },
  {
   "cell_type": "markdown",
   "metadata": {},
   "source": [
    "Note que agora são 5 grupos, visto que não ficou auto-explicativo nesse segunda análise. Assim, **sendo mais eficiente o scatter anterior**."
   ]
  },
  {
   "cell_type": "markdown",
   "metadata": {},
   "source": [
    "### E se incluíssemos apenas a avaliação dos municipios? Geraríamos grupos diferentes?"
   ]
  },
  {
   "cell_type": "code",
   "execution_count": 51,
   "metadata": {},
   "outputs": [],
   "source": [
    "contratos_filtod = contratos[['n_municipios']] "
   ]
  },
  {
   "cell_type": "code",
   "execution_count": 52,
   "metadata": {},
   "outputs": [
    {
     "data": {
      "image/png": "[encoded data removed]",
      "text/plain": [
       "<Figure size 432x288 with 1 Axes>"
      ]
     },
     "metadata": {
      "needs_background": "light"
     },
     "output_type": "display_data"
    }
   ],
   "source": [
    "dendrograma = sch.dendrogram(sch.linkage(contratos_filtod, method='ward'))\n",
    "plt.title('Dendrograma')\n",
    "plt.xlabel('Minucípios')\n",
    "plt.ylabel('Distâncias Euclidianas')\n",
    "plt.show()"
   ]
  },
  {
   "cell_type": "markdown",
   "metadata": {},
   "source": [
    "Já vemos uma considerável mudança na configuração dos grupos. **Agrupamentos sempre irão gerar grupos, o que não quer dizer que eles são úteis**."
   ]
  },
  {
   "cell_type": "markdown",
   "metadata": {},
   "source": [
    "> **A escala tem influência no cálculo das distâncias?**\n",
    "**Como solucionar isso?** Neste caso, a variável total_ganho tem uma escala completamente diferente (e desproporcional) a n_municipios. Já que isso influencia no cálculo das distâncias: SCALE!"
   ]
  },
  {
   "cell_type": "markdown",
   "metadata": {},
   "source": [
    "## Por curiosidade, gostaria de usar o K-Means para essa base de dados\n",
    "\n",
    "Vamos a uma breve descrição desse assunto. **O K-Means** também é um algoritmo de agrupamento (**não-hierárquico**) bastante utilizado.\n",
    "\n",
    "**Vamos usá-lo para responder a mesma questão acima e ver se temos uma diferenciação nos grupos gerados**."
   ]
  },
  {
   "cell_type": "code",
   "execution_count": 53,
   "metadata": {},
   "outputs": [
    {
     "name": "stdout",
     "output_type": "stream",
     "text": [
      "<class 'pandas.core.frame.DataFrame'>\n",
      "RangeIndex: 417 entries, 0 to 416\n",
      "Data columns (total 2 columns):\n",
      "n_municipios    417 non-null float64\n",
      "total_ganho     417 non-null float64\n",
      "dtypes: float64(2)\n",
      "memory usage: 6.6 KB\n"
     ]
    }
   ],
   "source": [
    "contratos_filtro.info() # infomrações dos contratos para um melhor entendimento para o uso do K-Means"
   ]
  },
  {
   "cell_type": "markdown",
   "metadata": {},
   "source": [
    "Se tivéssemos que determinar a quantidade ideal de gurpos, teríamos que rodar n vezes o K-Means n vezes, visto que não seria prático.\n",
    "\n",
    "### Uma visão geral do K-Means:\n",
    "\n",
    "Quando aumentamos a quantidade de grupos indefinidamente, as dissimilaridade entre grupos cai - aumentando a heterogeneidade de cada grupo. Daí a importância de encontrar o valor ótimo para a quantidade de grupos buscado: **encontrar uma alta similaridade entre membros do mesmo grupo e baixa similaridade entre grupos distintos (ou membros de grupos distintos)**.\n",
    "\n",
    "Outro modo (além da distância) de determinar o número de grupos a serem passados como parâmetro do modelo é o método do joelho ou do cotovelo.\n",
    "\n",
    "**A função abaixo calcula 14 vezes o K-Means, gerando uma saída que pode resultar entre 2 e 15 grupos distintos**."
   ]
  },
  {
   "cell_type": "code",
   "execution_count": 54,
   "metadata": {},
   "outputs": [],
   "source": [
    "# Com isso, calculamos o WCSS (soma dos quadrados intra-cluster) para cada resultado do K-Means.\n",
    "\n",
    "def calculate_wcss(data):\n",
    "    wcss = []\n",
    "    for n in range(2, 16):\n",
    "        kmeans = KMeans(n_clusters = n)\n",
    "        kmeans.fit(X = data)\n",
    "        wcss.append(kmeans.inertia_)\n",
    "\n",
    "    return wcss\n"
   ]
  },
  {
   "cell_type": "markdown",
   "metadata": {},
   "source": [
    "**Dado que o objetivo é minimizar o WCSS, vamos ao gráfico**:"
   ]
  },
  {
   "cell_type": "code",
   "execution_count": 55,
   "metadata": {},
   "outputs": [
    {
     "data": {
      "text/plain": [
       "Text(0, 0.5, 'WCSS')"
      ]
     },
     "execution_count": 55,
     "metadata": {},
     "output_type": "execute_result"
    },
    {
     "data": {
      "image/png": "[encoded data removed]",
      "text/plain": [
       "<Figure size 432x288 with 1 Axes>"
      ]
     },
     "metadata": {
      "needs_background": "light"
     },
     "output_type": "display_data"
    }
   ],
   "source": [
    "# Soma dos quadrados intra-cluster - WCSS (within- clusters sum-of-squares) \n",
    "plt.plot(range(2, 16), calculate_wcss(contratos_filtro))\n",
    "plt.title('Método do Joelho ou Cotovelo')\n",
    "plt.xlabel('Número de clusters')\n",
    "plt.ylabel('WCSS')"
   ]
  },
  {
   "cell_type": "code",
   "execution_count": 56,
   "metadata": {},
   "outputs": [
    {
     "data": {
      "text/plain": [
       "[152177.4598997921,\n",
       " 79088.555533286,\n",
       " 46625.968030269556,\n",
       " 25660.58431728934,\n",
       " 17271.40671116592,\n",
       " 12278.353789469726,\n",
       " 9356.426764121437,\n",
       " 7262.706792930034,\n",
       " 6001.232619082046,\n",
       " 4912.802217743243,\n",
       " 4036.2641721184773,\n",
       " 3341.642710405866,\n",
       " 2902.5511783676757,\n",
       " 2465.3246980392214]"
      ]
     },
     "execution_count": 56,
     "metadata": {},
     "output_type": "execute_result"
    }
   ],
   "source": [
    "soma_dos_quadrados = calculate_wcss(contratos_filtro)\n",
    "\n",
    "soma_dos_quadrados"
   ]
  },
  {
   "cell_type": "markdown",
   "metadata": {},
   "source": [
    "Já temos os valores da soma dos quadrados entra grupos. Como utilizamos isso para escolher o número de grupos?\n",
    "\n",
    "\"O ponto que indica o equilíbrio entre maior homogeneidade dentro do grupo e a maior diferença entre grupos, é o ponto da curva mais distante de uma **reta traçada entre\" o primeiro e o último ponto do gráfico acima**. Isso pode ser calculado a partir da distância entre um ponto e uma reta.\n",
    "\n",
    "**A função abaixo calcula a distância entre cada ponto da curva e essa curva imaginária entre o primeiro o último ponto, nos retornando o ponto de distância máxima**."
   ]
  },
  {
   "cell_type": "code",
   "execution_count": 57,
   "metadata": {},
   "outputs": [],
   "source": [
    "def optimal_number_of_clusters(wcss):\n",
    "    x1, y1 = 2, wcss[0]\n",
    "    x2, y2 = 20, wcss[len(wcss)-1]\n",
    "\n",
    "    distances = []\n",
    "    for i in range(len(wcss)):\n",
    "        x0 = i+2\n",
    "        y0 = wcss[i]\n",
    "        numerator = abs((y2-y1)*x0 - (x2-x1)*y0 + x2*y1 - y2*x1)\n",
    "        denominator = sqrt((y2 - y1)**2 + (x2 - x1)**2)\n",
    "        distances.append(numerator/denominator)\n",
    "    \n",
    "    return distances.index(max(distances)) + 2\n",
    "\n",
    "# note que criaremos uma função optimal_number_of_clusters \n",
    "# com o intuito de haver uma divisão entre os eixos de X1,X2 e Y1,Y2 para os WCSS\n",
    "# Fizemos as distâncias com ajuda do For junto com a função"
   ]
  },
  {
   "cell_type": "code",
   "execution_count": 58,
   "metadata": {},
   "outputs": [
    {
     "data": {
      "text/plain": [
       "6"
      ]
     },
     "execution_count": 58,
     "metadata": {},
     "output_type": "execute_result"
    }
   ],
   "source": [
    "numero_de_grupos = optimal_number_of_clusters(soma_dos_quadrados)\n",
    "\n",
    "numero_de_grupos # Esse é o núemro de grupos ideal para nossa análise"
   ]
  },
  {
   "cell_type": "markdown",
   "metadata": {},
   "source": [
    "**Utilizaremos o valor para a construção do modelo:**"
   ]
  },
  {
   "cell_type": "code",
   "execution_count": 59,
   "metadata": {},
   "outputs": [],
   "source": [
    "kmeans = KMeans(n_clusters = numero_de_grupos)\n",
    "\n",
    "grupos = kmeans.fit_predict(contratos_filtro)"
   ]
  },
  {
   "cell_type": "code",
   "execution_count": 60,
   "metadata": {},
   "outputs": [
    {
     "data": {
      "text/plain": [
       "<matplotlib.axes._subplots.AxesSubplot at 0x168220ea748>"
      ]
     },
     "execution_count": 60,
     "metadata": {},
     "output_type": "execute_result"
    },
    {
     "data": {
      "image/png": "[encoded data removed]",
      "text/plain": [
       "<Figure size 432x288 with 2 Axes>"
      ]
     },
     "metadata": {
      "needs_background": "light"
     },
     "output_type": "display_data"
    }
   ],
   "source": [
    "\n",
    "contratos_filtro.plot.scatter(x='n_municipios', y='total_ganho', c=kmeans.labels_, cmap='rainbow')"
   ]
  },
  {
   "cell_type": "markdown",
   "metadata": {},
   "source": [
    ">**Distintamente do exemplo com agrupamento hierárquico, encontramos que o número ótimo de grupos nesse caso são 6 grupos mediante ao K-Means**, Portanto, pode-se perceber que nossa análise foi muito mais a fundo entre os dados, no qual determinamos todas as caracteristicas em nosso classificador junto à ajuda de análises como: O processo de treinamento; avaliação e escolha do(s) modelos; interpretação da matriz de confusão; resultados do modelo e suas predições."
   ]
  },
  {
   "cell_type": "markdown",
   "metadata": {},
   "source": [
    "**Dificuldades**\n",
    "\n",
    "Como eu já havia relatado anteriormente, a maior dificuldade não foi o entendimento das variáveis e sim, os valores para serem mostrados como resultados eficazes de nossa análise, tendo em vista aspectos negativos no uso da Regressão Logistica, em que pode-se notar a diferença no uso da Árvore de decisão como ponto chave dessa **primeira análise**. No entanto, o grau em dificuldade para gerar uma pergunta ao nosso problema para contratos **reincidido e não reincidido** fi realmente um desafio separar cada variável."
   ]
  },
  {
   "cell_type": "markdown",
   "metadata": {},
   "source": [
    "**Aprendizagem**\n",
    "\n",
    "Aprendi a entender melhor cada variável, seguir um passo-a-passo, no qual fiz uma análise detalhada de modo eficiente em que acompanhei bastante o material da professora Talita Lobo que consta no link(GitHub):https://github.com/talitalobo/EspecializacaoUnifacisa2019"
   ]
  },
  {
   "cell_type": "markdown",
   "metadata": {},
   "source": [
    "**Curiosidades**"
   ]
  },
  {
   "cell_type": "markdown",
   "metadata": {},
   "source": [
    "Como em nosso projeto não estava inserido o uso de **Hierarquia e K-Means em Machine learning I** referente ao link do porjeto: https://docs.google.com/document/d/1ziGe5hiwty5Sd7tOItY310hwq8mvQv73PnOePV3Pkwo/edit tive a iniciativa de fazer mais de uma análise em nossa base de dados Obras 2014 - 2017, visto que é realmente um grande desafio para nos como alunos em uam tecnologia que só tende-se a crescer cada vez mais."
   ]
  }
 ],
 "metadata": {
  "kernelspec": {
   "display_name": "Python 3",
   "language": "python",
   "name": "python3"
  },
  "language_info": {
   "codemirror_mode": {
    "name": "ipython",
    "version": 3
   },
   "file_extension": ".py",
   "mimetype": "text/x-python",
   "name": "python",
   "nbconvert_exporter": "python",
   "pygments_lexer": "ipython3",
   "version": "3.7.3"
  }
 },
 "nbformat": 4,
 "nbformat_minor": 2
}
